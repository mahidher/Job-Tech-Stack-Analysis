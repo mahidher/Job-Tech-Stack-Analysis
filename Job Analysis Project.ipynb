{
 "cells": [
  {
   "cell_type": "code",
   "execution_count": 2,
   "id": "3ec6c0fd",
   "metadata": {},
   "outputs": [],
   "source": [
    "import seaborn as sb\n",
    "import random\n",
    "import pandas as pd\n",
    "import numpy as np\n",
    "import math\n",
    "import matplotlib.pyplot as plt\n",
    "#Generate a list random numbers from 0 to 200, 500 times, save it as a data frame under the column \"Value\"\n",
    "# s = pd.DataFrame({'value':[random.randint(0, 200) for i in range(0, 500)]})\n",
    "# print(s.head())"
   ]
  },
  {
   "cell_type": "markdown",
   "id": "7cc119d9",
   "metadata": {},
   "source": [
    "## First Lets extract the keywords from the csv"
   ]
  },
  {
   "cell_type": "code",
   "execution_count": 3,
   "id": "d6cf0b7f",
   "metadata": {},
   "outputs": [
    {
     "name": "stdout",
     "output_type": "stream",
     "text": [
      "Requirement already satisfied: rake-nltk in c:\\users\\dkmah\\anaconda3\\lib\\site-packages (1.0.6)\n",
      "Requirement already satisfied: nltk<4.0.0,>=3.6.2 in c:\\users\\dkmah\\anaconda3\\lib\\site-packages (from rake-nltk) (3.6.7)\n",
      "Requirement already satisfied: regex>=2021.8.3 in c:\\users\\dkmah\\anaconda3\\lib\\site-packages (from nltk<4.0.0,>=3.6.2->rake-nltk) (2021.11.10)\n",
      "Requirement already satisfied: click in c:\\users\\dkmah\\anaconda3\\lib\\site-packages (from nltk<4.0.0,>=3.6.2->rake-nltk) (7.1.2)\n",
      "Requirement already satisfied: tqdm in c:\\users\\dkmah\\anaconda3\\lib\\site-packages (from nltk<4.0.0,>=3.6.2->rake-nltk) (4.59.0)\n",
      "Requirement already satisfied: joblib in c:\\users\\dkmah\\anaconda3\\lib\\site-packages (from nltk<4.0.0,>=3.6.2->rake-nltk) (1.0.1)\n"
     ]
    }
   ],
   "source": [
    "!pip install rake-nltk\n",
    "from rake_nltk import Rake"
   ]
  },
  {
   "cell_type": "code",
   "execution_count": 4,
   "id": "038a53dc",
   "metadata": {},
   "outputs": [
    {
     "name": "stdout",
     "output_type": "stream",
     "text": [
      "['i', 'me', 'my', 'myself', 'we', 'our', 'ours', 'ourselves', 'you', \"you're\", \"you've\", \"you'll\", \"you'd\", 'your', 'yours', 'yourself', 'yourselves', 'he', 'him', 'his', 'himself', 'she', \"she's\", 'her', 'hers', 'herself', 'it', \"it's\", 'its', 'itself', 'they', 'them', 'their', 'theirs', 'themselves', 'what', 'which', 'who', 'whom', 'this', 'that', \"that'll\", 'these', 'those', 'am', 'is', 'are', 'was', 'were', 'be', 'been', 'being', 'have', 'has', 'had', 'having', 'do', 'does', 'did', 'doing', 'a', 'an', 'the', 'and', 'but', 'if', 'or', 'because', 'as', 'until', 'while', 'of', 'at', 'by', 'for', 'with', 'about', 'against', 'between', 'into', 'through', 'during', 'before', 'after', 'above', 'below', 'to', 'from', 'up', 'down', 'in', 'out', 'on', 'off', 'over', 'under', 'again', 'further', 'then', 'once', 'here', 'there', 'when', 'where', 'why', 'how', 'all', 'any', 'both', 'each', 'few', 'more', 'most', 'other', 'some', 'such', 'no', 'nor', 'not', 'only', 'own', 'same', 'so', 'than', 'too', 'very', 's', 't', 'can', 'will', 'just', 'don', \"don't\", 'should', \"should've\", 'now', 'd', 'll', 'm', 'o', 're', 've', 'y', 'ain', 'aren', \"aren't\", 'couldn', \"couldn't\", 'didn', \"didn't\", 'doesn', \"doesn't\", 'hadn', \"hadn't\", 'hasn', \"hasn't\", 'haven', \"haven't\", 'isn', \"isn't\", 'ma', 'mightn', \"mightn't\", 'mustn', \"mustn't\", 'needn', \"needn't\", 'shan', \"shan't\", 'shouldn', \"shouldn't\", 'wasn', \"wasn't\", 'weren', \"weren't\", 'won', \"won't\", 'wouldn', \"wouldn't\"]\n"
     ]
    }
   ],
   "source": [
    "import nltk\n",
    "from nltk.corpus import stopwords\n",
    "print(stopwords.words('english'))\n"
   ]
  },
  {
   "cell_type": "code",
   "execution_count": 5,
   "id": "9757ed93",
   "metadata": {},
   "outputs": [
    {
     "name": "stdout",
     "output_type": "stream",
     "text": [
      "showing info https://raw.githubusercontent.com/nltk/nltk_data/gh-pages/index.xml\n"
     ]
    },
    {
     "data": {
      "text/plain": [
       "True"
      ]
     },
     "execution_count": 5,
     "metadata": {},
     "output_type": "execute_result"
    }
   ],
   "source": [
    "# import nltk\n",
    "# nltk.download()"
   ]
  },
  {
   "cell_type": "code",
   "execution_count": 6,
   "id": "b36c6d74",
   "metadata": {},
   "outputs": [
    {
     "name": "stdout",
     "output_type": "stream",
     "text": [
      "['i', 'me', 'my', 'myself', 'we', 'our', 'ours', 'ourselves', 'you', \"you're\", \"you've\", \"you'll\", \"you'd\", 'your', 'yours', 'yourself', 'yourselves', 'he', 'him', 'his', 'himself', 'she', \"she's\", 'her', 'hers', 'herself', 'it', \"it's\", 'its', 'itself', 'they', 'them', 'their', 'theirs', 'themselves', 'what', 'which', 'who', 'whom', 'this', 'that', \"that'll\", 'these', 'those', 'am', 'is', 'are', 'was', 'were', 'be', 'been', 'being', 'have', 'has', 'had', 'having', 'do', 'does', 'did', 'doing', 'a', 'an', 'the', 'and', 'but', 'if', 'or', 'because', 'as', 'until', 'while', 'of', 'at', 'by', 'for', 'with', 'about', 'against', 'between', 'into', 'through', 'during', 'before', 'after', 'above', 'below', 'to', 'from', 'up', 'down', 'in', 'out', 'on', 'off', 'over', 'under', 'again', 'further', 'then', 'once', 'here', 'there', 'when', 'where', 'why', 'how', 'all', 'any', 'both', 'each', 'few', 'more', 'most', 'other', 'some', 'such', 'no', 'nor', 'not', 'only', 'own', 'same', 'so', 'than', 'too', 'very', 's', 't', 'can', 'will', 'just', 'don', \"don't\", 'should', \"should've\", 'now', 'd', 'll', 'm', 'o', 're', 've', 'y', 'ain', 'aren', \"aren't\", 'couldn', \"couldn't\", 'didn', \"didn't\", 'doesn', \"doesn't\", 'hadn', \"hadn't\", 'hasn', \"hasn't\", 'haven', \"haven't\", 'isn', \"isn't\", 'ma', 'mightn', \"mightn't\", 'mustn', \"mustn't\", 'needn', \"needn't\", 'shan', \"shan't\", 'shouldn', \"shouldn't\", 'wasn', \"wasn't\", 'weren', \"weren't\", 'won', \"won't\", 'wouldn', \"wouldn't\"]\n"
     ]
    }
   ],
   "source": [
    "import nltk\n",
    "from nltk.corpus import stopwords\n",
    "print(stopwords.words('english'))"
   ]
  },
  {
   "cell_type": "code",
   "execution_count": 7,
   "id": "945975f8",
   "metadata": {},
   "outputs": [],
   "source": [
    "ml_data = pd.read_csv(\"ML_engineer_175.csv\")\n",
    "ds_data = pd.read_csv(\"Data_Scientist_175.csv\")"
   ]
  },
  {
   "cell_type": "code",
   "execution_count": 8,
   "id": "8003f058",
   "metadata": {},
   "outputs": [
    {
     "data": {
      "text/plain": [
       "\"b'Regularization methods: Lasso, Ridge|Ensemble methods: Random Forest, Boosting|Time Series Analysis: Auto-regression, ARIMA, Kalman filter, etc.|Random graphs modeling|Support Vector Machines and regression|Decision trees.|We are growing very fast. We are one of the first entrants in this field. We have just started and the sky is the limit for the industry problem we are solving. With us, you will get to work on building some advanced solutions. You will gain great experience in a short amount of time. Besides, you will get to work in a research-oriented, flexible and extremely friendly environment.'\""
      ]
     },
     "execution_count": 8,
     "metadata": {},
     "output_type": "execute_result"
    }
   ],
   "source": [
    "ml_data.iloc[9]['skills']"
   ]
  },
  {
   "cell_type": "code",
   "execution_count": 9,
   "id": "4ac86722",
   "metadata": {},
   "outputs": [],
   "source": [
    "list_of_stopwords=['work','computer science','machine learning','data','working','collaborate',\"''\",'ability','engineering','3','mathematics','learn','degree','algorithms','research','etc','variety','design','production','master','build','.|','part','fast','product','business','science','knowledge','develop','analysis','x99s','sets','development','2','analytics','plus','stakeholders','problems','bachelor','familiarity','models','proficiency','related field','self',')|','understand','tools','well','operations','non','solving','sources','phd','5','end','analyze','quality','building','scientists','dental','big','members','equivalent','java','problem','strong','advanced','related field','machine','learning','statistical','ml','required','preferred','software','using','large','related','teams','industry','regression','solutions','support','modeling','techniques','use','improve','collaboration','applied','recommendations','time','one','developing','partners','impact','understanding','scientist','fluency','deep','computer','field','frameworks','least','series','predictive','systems','create','new','concepts','across','engineers','scale','apply','technologies','methods','quantitative field','quantitative','field','processes','testing','real','analytical','implement','infrastructure','including','organization','packages','marketing','able','products','ensure','identify','make','applications','environment','ai','classification','opportunities','deploying','pipelines','driven','similar','demonstrated','professional','insights','performance','cross','.)','programming','customers','test','high','drive','company','approaches','hands','audiences','results','model','various','ms','accurate','passion','solid','languages','decisions','training','communicate','language','functional','collaborative','solve','internal','complex','match','excellent','good','application','1','implementation','must','existing','clients','help','closely','information','areas','communication','written','projects','supply','chain','supply chain','oriented','translate','processing','verbal','planning','deliver','take','statistics','visualization','vision','clustering','optimization','year','c']"
   ]
  },
  {
   "cell_type": "code",
   "execution_count": 10,
   "id": "be496561",
   "metadata": {},
   "outputs": [],
   "source": [
    "r=Rake(    \n",
    "    stopwords = stopwords.words('english') + list_of_stopwords+['years','team','g','e','bonus','x80','xe2','experience','b','long', 'descriptive', 'text', 'contains', 'technical', 'skills', 'keywords', 'things', 'see', 'rake', 'need', 'many', 'lists', 'let', 'extract']\n",
    ")"
   ]
  },
  {
   "cell_type": "code",
   "execution_count": 11,
   "id": "9f082e90",
   "metadata": {},
   "outputs": [],
   "source": [
    "total_keywords = []"
   ]
  },
  {
   "cell_type": "code",
   "execution_count": 12,
   "id": "bec6b9db",
   "metadata": {},
   "outputs": [],
   "source": [
    "# total_keywords = []\n",
    "for i in range(ml_data.shape[0]):\n",
    "    #print(data.iloc[i]['company'])\n",
    "    try:\n",
    "        r.extract_keywords_from_text(ml_data.iloc[i]['skills'].lower())\n",
    "#         r.extract_keywords_from_text(ml_data.iloc[i]['description'].lower())\n",
    "        keywords = r.get_ranked_phrases()\n",
    "        total_keywords = total_keywords + keywords\n",
    "    except:\n",
    "        pass\n",
    "    "
   ]
  },
  {
   "cell_type": "code",
   "execution_count": 13,
   "id": "c6a2594c",
   "metadata": {},
   "outputs": [],
   "source": [
    "for i in range(ds_data.shape[0]):\n",
    "    #print(data.iloc[i]['company'])\n",
    "    try:\n",
    "        r.extract_keywords_from_text(ds_data.iloc[i]['skills'].lower())\n",
    "#         r.extract_keywords_from_text(ds_data.iloc[i]['description'].lower())\n",
    "        keywords = r.get_ranked_phrases()\n",
    "        total_keywords = total_keywords + keywords\n",
    "    except:\n",
    "        pass\n",
    "    "
   ]
  },
  {
   "cell_type": "code",
   "execution_count": 14,
   "id": "69c27b28",
   "metadata": {},
   "outputs": [
    {
     "data": {
      "text/plain": [
       "17451"
      ]
     },
     "execution_count": 14,
     "metadata": {},
     "output_type": "execute_result"
    }
   ],
   "source": [
    "len(total_keywords)"
   ]
  },
  {
   "cell_type": "code",
   "execution_count": 15,
   "id": "1ba982ef",
   "metadata": {},
   "outputs": [
    {
     "data": {
      "text/plain": [
       "175"
      ]
     },
     "execution_count": 15,
     "metadata": {},
     "output_type": "execute_result"
    }
   ],
   "source": [
    "ml_data.shape[0]"
   ]
  },
  {
   "cell_type": "code",
   "execution_count": 202,
   "id": "3d43704e",
   "metadata": {},
   "outputs": [],
   "source": [
    "# list_of_stopwords=['work','computer science','machine learning','data','working','collaborate',\"''\",'ability','engineering','3','mathematics','learn','degree','algorithms','research','etc','variety','design','production','master','build','.|','part','fast','product','business','science','knowledge','develop','analysis','x99s','sets','development','2','analytics','plus','stakeholders','problems','bachelor','familiarity','models','proficiency','related field','self',')|','understand','tools','well','operations','non','solving','sources','phd','5','end','analyze','quality','building','scientists','dental','big','members','equivalent','java','problem','strong','advanced','related field','machine','learning','statistical','ml','required','preferred','software','using','large','related','teams','industry','regression','solutions','support','modeling','techniques','use','improve','collaboration','applied','recommendations','time','one','developing','partners','impact','understanding','scientist','fluency','deep','computer','field','frameworks','least','series','predictive','systems','create','new','concepts','across','engineers','scale','apply','technologies','methods','quantitative field','quantitative','field','processes','testing','real','analytical','implement','infrastructure','including','organization','packages','marketing','able','products','ensure','identify','make','applications','environment','ai','classification','opportunities','deploying','pipelines','driven','similar','demonstrated','professional','insights','performance','cross','.)','programming','customers','test','high','drive','company','approaches','hands','audiences','results','model','various','ms','accurate','passion','solid','languages','decisions','training','communicate','language','functional','collaborative','solve','internal','complex','match','excellent','good','application','1','implementation','must','existing','clients','help','closely','information','areas','communication','written','projects','supply','chain','supply chain','oriented','translate','processing','verbal','planning','deliver','take']"
   ]
  },
  {
   "cell_type": "code",
   "execution_count": 186,
   "id": "2d285ba1",
   "metadata": {},
   "outputs": [],
   "source": [
    "# if 'projects' in list_of_stopwords:\n",
    "#     print(\"True\")"
   ]
  },
  {
   "cell_type": "code",
   "execution_count": 16,
   "id": "2056dab0",
   "metadata": {},
   "outputs": [],
   "source": [
    "sample = pd.DataFrame({\n",
    "     \"Keyword\":total_keywords\n",
    "})"
   ]
  },
  {
   "cell_type": "code",
   "execution_count": 17,
   "id": "7f43af54",
   "metadata": {},
   "outputs": [
    {
     "data": {
      "text/plain": [
       "Keyword    0\n",
       "dtype: int64"
      ]
     },
     "execution_count": 17,
     "metadata": {},
     "output_type": "execute_result"
    }
   ],
   "source": [
    "sample[sample['Keyword']=='communication'].count()"
   ]
  },
  {
   "cell_type": "code",
   "execution_count": 18,
   "id": "a3a45ad0",
   "metadata": {},
   "outputs": [
    {
     "data": {
      "text/plain": [
       "Keyword   \n",
       "python        229\n",
       "r             107\n",
       "sql           100\n",
       "tensorflow     64\n",
       "pytorch        62\n",
       "spark          56\n",
       "tableau        39\n",
       "nlp            33\n",
       "scikit         33\n",
       "hadoop         33\n",
       "scala          32\n",
       "pandas         31\n",
       "aws            29\n",
       "git            28\n",
       "mining         28\n",
       "numpy          27\n",
       "kubernetes     26\n",
       "dtype: int64"
      ]
     },
     "execution_count": 18,
     "metadata": {},
     "output_type": "execute_result"
    }
   ],
   "source": [
    "sample.value_counts().sort_values(ascending=False)[:17]"
   ]
  },
  {
   "cell_type": "code",
   "execution_count": 296,
   "id": "20e99dee",
   "metadata": {},
   "outputs": [],
   "source": [
    "# sample.value_counts().sort_values(ascending=False)[:17].to_dict()"
   ]
  },
  {
   "cell_type": "code",
   "execution_count": 19,
   "id": "2900e23c",
   "metadata": {},
   "outputs": [],
   "source": [
    "keyword_list = sample.value_counts().sort_values(ascending=False)[:17].to_dict()"
   ]
  },
  {
   "cell_type": "code",
   "execution_count": 295,
   "id": "c84582df",
   "metadata": {},
   "outputs": [],
   "source": [
    "# for i in keyword_list.keys():\n",
    "#     print(i[0])"
   ]
  },
  {
   "cell_type": "code",
   "execution_count": 20,
   "id": "eeb135cf",
   "metadata": {},
   "outputs": [],
   "source": [
    "final_keywords={}\n",
    "for old_key in keyword_list.keys():\n",
    "#     new_key = old_key.replace(\"'\",\"\").replace(\"(\",\"\").replace(\")\",\"\").replace(\",\",\"\")\n",
    "#     new_key = re.sub('[^0-9a-zA-Z]+', '', old_key)\n",
    "    new_key = old_key[0]\n",
    "    final_keywords[new_key] = keyword_list[old_key]\n",
    "    "
   ]
  },
  {
   "cell_type": "code",
   "execution_count": 21,
   "id": "fb12f1c5",
   "metadata": {},
   "outputs": [
    {
     "data": {
      "text/plain": [
       "{'python': 229,\n",
       " 'r': 107,\n",
       " 'sql': 100,\n",
       " 'tensorflow': 64,\n",
       " 'pytorch': 62,\n",
       " 'spark': 56,\n",
       " 'tableau': 39,\n",
       " 'nlp': 33,\n",
       " 'scikit': 33,\n",
       " 'hadoop': 33,\n",
       " 'scala': 32,\n",
       " 'pandas': 31,\n",
       " 'aws': 29,\n",
       " 'git': 28,\n",
       " 'mining': 28,\n",
       " 'numpy': 27,\n",
       " 'kubernetes': 26}"
      ]
     },
     "execution_count": 21,
     "metadata": {},
     "output_type": "execute_result"
    }
   ],
   "source": [
    "final_keywords"
   ]
  },
  {
   "cell_type": "code",
   "execution_count": 25,
   "id": "4a88a65b",
   "metadata": {},
   "outputs": [],
   "source": [
    "import csv\n",
    "# my_dict = {'1': 'aaa', '2': 'bbb', '3': 'ccc'}\n",
    "header = ['Keyword','Frequency']\n",
    "with open('Keywords.csv', 'w') as f:\n",
    "    f.write(\"%s,%s\\n\"%(header[0],header[1]))\n",
    "    for key in final_keywords.keys():\n",
    "        f.write(\"%s,%s\\n\"%(key,final_keywords[key]))"
   ]
  },
  {
   "cell_type": "code",
   "execution_count": 26,
   "id": "f9671139",
   "metadata": {},
   "outputs": [],
   "source": [
    "keyword_data = pd.read_csv('Keywords.csv')"
   ]
  },
  {
   "cell_type": "code",
   "execution_count": 27,
   "id": "ba1522b8",
   "metadata": {},
   "outputs": [
    {
     "data": {
      "text/html": [
       "<div>\n",
       "<style scoped>\n",
       "    .dataframe tbody tr th:only-of-type {\n",
       "        vertical-align: middle;\n",
       "    }\n",
       "\n",
       "    .dataframe tbody tr th {\n",
       "        vertical-align: top;\n",
       "    }\n",
       "\n",
       "    .dataframe thead th {\n",
       "        text-align: right;\n",
       "    }\n",
       "</style>\n",
       "<table border=\"1\" class=\"dataframe\">\n",
       "  <thead>\n",
       "    <tr style=\"text-align: right;\">\n",
       "      <th></th>\n",
       "      <th>Keyword</th>\n",
       "      <th>Frequency</th>\n",
       "    </tr>\n",
       "  </thead>\n",
       "  <tbody>\n",
       "    <tr>\n",
       "      <th>0</th>\n",
       "      <td>python</td>\n",
       "      <td>229</td>\n",
       "    </tr>\n",
       "    <tr>\n",
       "      <th>1</th>\n",
       "      <td>r</td>\n",
       "      <td>107</td>\n",
       "    </tr>\n",
       "    <tr>\n",
       "      <th>2</th>\n",
       "      <td>sql</td>\n",
       "      <td>100</td>\n",
       "    </tr>\n",
       "    <tr>\n",
       "      <th>3</th>\n",
       "      <td>tensorflow</td>\n",
       "      <td>64</td>\n",
       "    </tr>\n",
       "    <tr>\n",
       "      <th>4</th>\n",
       "      <td>pytorch</td>\n",
       "      <td>62</td>\n",
       "    </tr>\n",
       "    <tr>\n",
       "      <th>5</th>\n",
       "      <td>spark</td>\n",
       "      <td>56</td>\n",
       "    </tr>\n",
       "    <tr>\n",
       "      <th>6</th>\n",
       "      <td>tableau</td>\n",
       "      <td>39</td>\n",
       "    </tr>\n",
       "    <tr>\n",
       "      <th>7</th>\n",
       "      <td>nlp</td>\n",
       "      <td>33</td>\n",
       "    </tr>\n",
       "    <tr>\n",
       "      <th>8</th>\n",
       "      <td>scikit</td>\n",
       "      <td>33</td>\n",
       "    </tr>\n",
       "    <tr>\n",
       "      <th>9</th>\n",
       "      <td>hadoop</td>\n",
       "      <td>33</td>\n",
       "    </tr>\n",
       "    <tr>\n",
       "      <th>10</th>\n",
       "      <td>scala</td>\n",
       "      <td>32</td>\n",
       "    </tr>\n",
       "    <tr>\n",
       "      <th>11</th>\n",
       "      <td>pandas</td>\n",
       "      <td>31</td>\n",
       "    </tr>\n",
       "    <tr>\n",
       "      <th>12</th>\n",
       "      <td>aws</td>\n",
       "      <td>29</td>\n",
       "    </tr>\n",
       "    <tr>\n",
       "      <th>13</th>\n",
       "      <td>git</td>\n",
       "      <td>28</td>\n",
       "    </tr>\n",
       "    <tr>\n",
       "      <th>14</th>\n",
       "      <td>mining</td>\n",
       "      <td>28</td>\n",
       "    </tr>\n",
       "    <tr>\n",
       "      <th>15</th>\n",
       "      <td>numpy</td>\n",
       "      <td>27</td>\n",
       "    </tr>\n",
       "    <tr>\n",
       "      <th>16</th>\n",
       "      <td>kubernetes</td>\n",
       "      <td>26</td>\n",
       "    </tr>\n",
       "  </tbody>\n",
       "</table>\n",
       "</div>"
      ],
      "text/plain": [
       "       Keyword  Frequency\n",
       "0       python        229\n",
       "1            r        107\n",
       "2          sql        100\n",
       "3   tensorflow         64\n",
       "4      pytorch         62\n",
       "5        spark         56\n",
       "6      tableau         39\n",
       "7          nlp         33\n",
       "8       scikit         33\n",
       "9       hadoop         33\n",
       "10       scala         32\n",
       "11      pandas         31\n",
       "12         aws         29\n",
       "13         git         28\n",
       "14      mining         28\n",
       "15       numpy         27\n",
       "16  kubernetes         26"
      ]
     },
     "execution_count": 27,
     "metadata": {},
     "output_type": "execute_result"
    }
   ],
   "source": [
    "keyword_data"
   ]
  },
  {
   "cell_type": "code",
   "execution_count": 28,
   "id": "31eb5d17",
   "metadata": {},
   "outputs": [],
   "source": [
    "N =  keyword_data['Frequency'].sum()"
   ]
  },
  {
   "cell_type": "code",
   "execution_count": 29,
   "id": "55d29c09",
   "metadata": {},
   "outputs": [],
   "source": [
    "keyword_data['Proportion'] = keyword_data['Frequency']/N"
   ]
  },
  {
   "cell_type": "code",
   "execution_count": 30,
   "id": "186d8eec",
   "metadata": {},
   "outputs": [],
   "source": [
    "keyword_data['ci_95%'] = keyword_data['Proportion'].apply(lambda p: 1.96 * np.sqrt( (p*(1-p)) / N))\n",
    "keyword_data['ci_68%'] = keyword_data['Proportion'].apply(lambda p: 1 * np.sqrt( (p*(1-p)) / N))"
   ]
  },
  {
   "cell_type": "code",
   "execution_count": 31,
   "id": "eaa9850e",
   "metadata": {},
   "outputs": [
    {
     "data": {
      "text/html": [
       "<div>\n",
       "<style scoped>\n",
       "    .dataframe tbody tr th:only-of-type {\n",
       "        vertical-align: middle;\n",
       "    }\n",
       "\n",
       "    .dataframe tbody tr th {\n",
       "        vertical-align: top;\n",
       "    }\n",
       "\n",
       "    .dataframe thead th {\n",
       "        text-align: right;\n",
       "    }\n",
       "</style>\n",
       "<table border=\"1\" class=\"dataframe\">\n",
       "  <thead>\n",
       "    <tr style=\"text-align: right;\">\n",
       "      <th></th>\n",
       "      <th>Keyword</th>\n",
       "      <th>Frequency</th>\n",
       "      <th>Proportion</th>\n",
       "      <th>ci_95%</th>\n",
       "      <th>ci_68%</th>\n",
       "    </tr>\n",
       "  </thead>\n",
       "  <tbody>\n",
       "    <tr>\n",
       "      <th>0</th>\n",
       "      <td>python</td>\n",
       "      <td>229</td>\n",
       "      <td>0.239289</td>\n",
       "      <td>0.027032</td>\n",
       "      <td>0.013792</td>\n",
       "    </tr>\n",
       "    <tr>\n",
       "      <th>1</th>\n",
       "      <td>r</td>\n",
       "      <td>107</td>\n",
       "      <td>0.111808</td>\n",
       "      <td>0.019966</td>\n",
       "      <td>0.010187</td>\n",
       "    </tr>\n",
       "    <tr>\n",
       "      <th>2</th>\n",
       "      <td>sql</td>\n",
       "      <td>100</td>\n",
       "      <td>0.104493</td>\n",
       "      <td>0.019381</td>\n",
       "      <td>0.009888</td>\n",
       "    </tr>\n",
       "    <tr>\n",
       "      <th>3</th>\n",
       "      <td>tensorflow</td>\n",
       "      <td>64</td>\n",
       "      <td>0.066876</td>\n",
       "      <td>0.015827</td>\n",
       "      <td>0.008075</td>\n",
       "    </tr>\n",
       "    <tr>\n",
       "      <th>4</th>\n",
       "      <td>pytorch</td>\n",
       "      <td>62</td>\n",
       "      <td>0.064786</td>\n",
       "      <td>0.015595</td>\n",
       "      <td>0.007957</td>\n",
       "    </tr>\n",
       "    <tr>\n",
       "      <th>5</th>\n",
       "      <td>spark</td>\n",
       "      <td>56</td>\n",
       "      <td>0.058516</td>\n",
       "      <td>0.014871</td>\n",
       "      <td>0.007587</td>\n",
       "    </tr>\n",
       "    <tr>\n",
       "      <th>6</th>\n",
       "      <td>tableau</td>\n",
       "      <td>39</td>\n",
       "      <td>0.040752</td>\n",
       "      <td>0.012527</td>\n",
       "      <td>0.006391</td>\n",
       "    </tr>\n",
       "    <tr>\n",
       "      <th>7</th>\n",
       "      <td>nlp</td>\n",
       "      <td>33</td>\n",
       "      <td>0.034483</td>\n",
       "      <td>0.011561</td>\n",
       "      <td>0.005898</td>\n",
       "    </tr>\n",
       "    <tr>\n",
       "      <th>8</th>\n",
       "      <td>scikit</td>\n",
       "      <td>33</td>\n",
       "      <td>0.034483</td>\n",
       "      <td>0.011561</td>\n",
       "      <td>0.005898</td>\n",
       "    </tr>\n",
       "    <tr>\n",
       "      <th>9</th>\n",
       "      <td>hadoop</td>\n",
       "      <td>33</td>\n",
       "      <td>0.034483</td>\n",
       "      <td>0.011561</td>\n",
       "      <td>0.005898</td>\n",
       "    </tr>\n",
       "    <tr>\n",
       "      <th>10</th>\n",
       "      <td>scala</td>\n",
       "      <td>32</td>\n",
       "      <td>0.033438</td>\n",
       "      <td>0.011390</td>\n",
       "      <td>0.005811</td>\n",
       "    </tr>\n",
       "    <tr>\n",
       "      <th>11</th>\n",
       "      <td>pandas</td>\n",
       "      <td>31</td>\n",
       "      <td>0.032393</td>\n",
       "      <td>0.011217</td>\n",
       "      <td>0.005723</td>\n",
       "    </tr>\n",
       "    <tr>\n",
       "      <th>12</th>\n",
       "      <td>aws</td>\n",
       "      <td>29</td>\n",
       "      <td>0.030303</td>\n",
       "      <td>0.010861</td>\n",
       "      <td>0.005541</td>\n",
       "    </tr>\n",
       "    <tr>\n",
       "      <th>13</th>\n",
       "      <td>git</td>\n",
       "      <td>28</td>\n",
       "      <td>0.029258</td>\n",
       "      <td>0.010678</td>\n",
       "      <td>0.005448</td>\n",
       "    </tr>\n",
       "    <tr>\n",
       "      <th>14</th>\n",
       "      <td>mining</td>\n",
       "      <td>28</td>\n",
       "      <td>0.029258</td>\n",
       "      <td>0.010678</td>\n",
       "      <td>0.005448</td>\n",
       "    </tr>\n",
       "    <tr>\n",
       "      <th>15</th>\n",
       "      <td>numpy</td>\n",
       "      <td>27</td>\n",
       "      <td>0.028213</td>\n",
       "      <td>0.010491</td>\n",
       "      <td>0.005352</td>\n",
       "    </tr>\n",
       "    <tr>\n",
       "      <th>16</th>\n",
       "      <td>kubernetes</td>\n",
       "      <td>26</td>\n",
       "      <td>0.027168</td>\n",
       "      <td>0.010300</td>\n",
       "      <td>0.005255</td>\n",
       "    </tr>\n",
       "  </tbody>\n",
       "</table>\n",
       "</div>"
      ],
      "text/plain": [
       "       Keyword  Frequency  Proportion    ci_95%    ci_68%\n",
       "0       python        229    0.239289  0.027032  0.013792\n",
       "1            r        107    0.111808  0.019966  0.010187\n",
       "2          sql        100    0.104493  0.019381  0.009888\n",
       "3   tensorflow         64    0.066876  0.015827  0.008075\n",
       "4      pytorch         62    0.064786  0.015595  0.007957\n",
       "5        spark         56    0.058516  0.014871  0.007587\n",
       "6      tableau         39    0.040752  0.012527  0.006391\n",
       "7          nlp         33    0.034483  0.011561  0.005898\n",
       "8       scikit         33    0.034483  0.011561  0.005898\n",
       "9       hadoop         33    0.034483  0.011561  0.005898\n",
       "10       scala         32    0.033438  0.011390  0.005811\n",
       "11      pandas         31    0.032393  0.011217  0.005723\n",
       "12         aws         29    0.030303  0.010861  0.005541\n",
       "13         git         28    0.029258  0.010678  0.005448\n",
       "14      mining         28    0.029258  0.010678  0.005448\n",
       "15       numpy         27    0.028213  0.010491  0.005352\n",
       "16  kubernetes         26    0.027168  0.010300  0.005255"
      ]
     },
     "execution_count": 31,
     "metadata": {},
     "output_type": "execute_result"
    }
   ],
   "source": [
    "keyword_data"
   ]
  },
  {
   "cell_type": "code",
   "execution_count": 33,
   "id": "c120ada3",
   "metadata": {},
   "outputs": [
    {
     "data": {
      "image/png": "[encoded data removed]",
      "text/plain": [
       "<Figure size 1080x864 with 1 Axes>"
      ]
     },
     "metadata": {
      "needs_background": "light"
     },
     "output_type": "display_data"
    }
   ],
   "source": [
    "plt.figure(figsize=(15,12))\n",
    "sb.barplot(x=keyword_data['Keyword'], y=keyword_data['Proportion'], yerr=keyword_data['ci_95%'])\n",
    "plt.title('95% Confidence Interval')\n",
    "# plt.savefig('save_as_a_png.png')"
   ]
  },
  {
   "cell_type": "code",
   "execution_count": 35,
   "id": "7c6d1bff",
   "metadata": {},
   "outputs": [
    {
     "data": {
      "text/plain": [
       "Text(0.5, 1.0, '68% Confidence Interval')"
      ]
     },
     "execution_count": 35,
     "metadata": {},
     "output_type": "execute_result"
    },
    {
     "data": {
      "image/png": "[encoded data removed]",
      "text/plain": [
       "<Figure size 1080x864 with 1 Axes>"
      ]
     },
     "metadata": {
      "needs_background": "light"
     },
     "output_type": "display_data"
    }
   ],
   "source": [
    "plt.figure(figsize=(15,12))\n",
    "sb.barplot(x=keyword_data['Keyword'], y=keyword_data['Proportion'], yerr=keyword_data['ci_68%'])\n",
    "plt.title('68% Confidence Interval')"
   ]
  }
 ],
 "metadata": {
  "kernelspec": {
   "display_name": "Python 3",
   "language": "python",
   "name": "python3"
  },
  "language_info": {
   "codemirror_mode": {
    "name": "ipython",
    "version": 3
   },
   "file_extension": ".py",
   "mimetype": "text/x-python",
   "name": "python",
   "nbconvert_exporter": "python",
   "pygments_lexer": "ipython3",
   "version": "3.8.8"
  }
 },
 "nbformat": 4,
 "nbformat_minor": 5
}
