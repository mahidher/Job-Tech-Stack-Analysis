{
 "cells": [
  {
   "cell_type": "code",
   "execution_count": 2,
   "id": "72883859",
   "metadata": {},
   "outputs": [
    {
     "name": "stdout",
     "output_type": "stream",
     "text": [
      "Requirement already satisfied: selenium in c:\\users\\dkmah\\anaconda3\\lib\\site-packages (4.1.0)\n",
      "Requirement already satisfied: trio-websocket~=0.9 in c:\\users\\dkmah\\anaconda3\\lib\\site-packages (from selenium) (0.9.2)\n",
      "Requirement already satisfied: trio~=0.17 in c:\\users\\dkmah\\anaconda3\\lib\\site-packages (from selenium) (0.19.0)\n",
      "Requirement already satisfied: urllib3[secure]~=1.26 in c:\\users\\dkmah\\anaconda3\\lib\\site-packages (from selenium) (1.26.4)\n",
      "Requirement already satisfied: idna in c:\\users\\dkmah\\anaconda3\\lib\\site-packages (from trio~=0.17->selenium) (2.10)\n",
      "Requirement already satisfied: outcome in c:\\users\\dkmah\\anaconda3\\lib\\site-packages (from trio~=0.17->selenium) (1.1.0)\n",
      "Requirement already satisfied: sniffio in c:\\users\\dkmah\\anaconda3\\lib\\site-packages (from trio~=0.17->selenium) (1.2.0)\n",
      "Requirement already satisfied: attrs>=19.2.0 in c:\\users\\dkmah\\anaconda3\\lib\\site-packages (from trio~=0.17->selenium) (20.3.0)\n",
      "Requirement already satisfied: cffi>=1.14 in c:\\users\\dkmah\\anaconda3\\lib\\site-packages (from trio~=0.17->selenium) (1.14.5)\n",
      "Requirement already satisfied: sortedcontainers in c:\\users\\dkmah\\anaconda3\\lib\\site-packages (from trio~=0.17->selenium) (2.3.0)\n",
      "Requirement already satisfied: async-generator>=1.9 in c:\\users\\dkmah\\anaconda3\\lib\\site-packages (from trio~=0.17->selenium) (1.10)\n",
      "Requirement already satisfied: pycparser in c:\\users\\dkmah\\anaconda3\\lib\\site-packages (from cffi>=1.14->trio~=0.17->selenium) (2.20)\n",
      "Requirement already satisfied: wsproto>=0.14 in c:\\users\\dkmah\\anaconda3\\lib\\site-packages (from trio-websocket~=0.9->selenium) (1.0.0)\n",
      "Requirement already satisfied: cryptography>=1.3.4 in c:\\users\\dkmah\\anaconda3\\lib\\site-packages (from urllib3[secure]~=1.26->selenium) (3.4.7)\n",
      "Requirement already satisfied: certifi in c:\\users\\dkmah\\anaconda3\\lib\\site-packages (from urllib3[secure]~=1.26->selenium) (2020.12.5)\n",
      "Requirement already satisfied: pyOpenSSL>=0.14 in c:\\users\\dkmah\\anaconda3\\lib\\site-packages (from urllib3[secure]~=1.26->selenium) (20.0.1)\n",
      "Requirement already satisfied: six>=1.5.2 in c:\\users\\dkmah\\anaconda3\\lib\\site-packages (from pyOpenSSL>=0.14->urllib3[secure]~=1.26->selenium) (1.15.0)\n",
      "Requirement already satisfied: h11<1,>=0.9.0 in c:\\users\\dkmah\\anaconda3\\lib\\site-packages (from wsproto>=0.14->trio-websocket~=0.9->selenium) (0.12.0)\n"
     ]
    },
    {
     "name": "stderr",
     "output_type": "stream",
     "text": [
      "'apt-get' is not recognized as an internal or external command,\n",
      "operable program or batch file.\n",
      "'apt' is not recognized as an internal or external command,\n",
      "operable program or batch file.\n",
      "'cp' is not recognized as an internal or external command,\n",
      "operable program or batch file.\n"
     ]
    }
   ],
   "source": [
    "!pip install selenium\n",
    "!apt-get update # to update ubuntu to correctly run apt install\n",
    "!apt install chromium-chromedriver\n",
    "!cp /usr/lib/chromium-browser/chromedriver /usr/bin\n",
    "import sys\n",
    "sys.path.insert(0,'/usr/lib/chromium-browser/chromedriver')\n",
    "from selenium import webdriver\n",
    "from selenium.webdriver.common.keys import Keys"
   ]
  },
  {
   "cell_type": "code",
   "execution_count": 3,
   "id": "2659d566",
   "metadata": {},
   "outputs": [],
   "source": [
    "from bs4 import BeautifulSoup"
   ]
  },
  {
   "cell_type": "code",
   "execution_count": 4,
   "id": "e6a73e0e",
   "metadata": {},
   "outputs": [
    {
     "name": "stderr",
     "output_type": "stream",
     "text": [
      "<ipython-input-4-6ab2a32d6ec7>:5: DeprecationWarning: use options instead of chrome_options\n",
      "  wd = webdriver.Chrome('chromedriver',chrome_options=chrome_options)\n"
     ]
    }
   ],
   "source": [
    "chrome_options = webdriver.ChromeOptions()\n",
    "chrome_options.add_argument('--headless')\n",
    "chrome_options.add_argument('--no-sandbox')\n",
    "chrome_options.add_argument('--disable-dev-shm-usage')\n",
    "wd = webdriver.Chrome('chromedriver',chrome_options=chrome_options)"
   ]
  },
  {
   "cell_type": "code",
   "execution_count": 58,
   "id": "31a423a5",
   "metadata": {},
   "outputs": [
    {
     "name": "stdout",
     "output_type": "stream",
     "text": [
      "114,000+ Data+Scientist jobs in United States (576 new)\n"
     ]
    }
   ],
   "source": [
    "# wd.get(\"https://www.linkedin.com/jobs/search?keywords=Machine%20Learning%20Engineer&location=&geoId=&trk=public_jobs_jobs-search-bar_search-submit&position=1&pageNum=0\")\n",
    "# wd.get(\"https://www.linkedin.com/jobs/search?keywords=Machine%20Learning%20Engineer&location=United%20States&locationId=&geoId=103644278&f_TPR=&f_JT=F&f_E=2&f_SB2=4&position=1&pageNum=0\")\n",
    "# wd.get(\"https://www.linkedin.com/jobs/search?keywords=Machine%20Learning%20Engineer&location=United%20States&locationId=&geoId=103644278&f_TPR=&f_E=2&f_SB2=3&position=1&pageNum=0\")\n",
    "wd.get(\"https://www.linkedin.com/jobs/search?keywords=Data%2BScientist&location=United%2BStates&geoId=103644278&f_E=2&currentJobId=2878787775&position=17&pageNum=1\")\n",
    "print(wd.title)"
   ]
  },
  {
   "cell_type": "code",
   "execution_count": 59,
   "id": "666bbe7e",
   "metadata": {},
   "outputs": [],
   "source": [
    "wd.execute_script(\"window.scrollTo(0,document.body.scrollHeight)\") "
   ]
  },
  {
   "cell_type": "code",
   "execution_count": 72,
   "id": "2f20ce12",
   "metadata": {},
   "outputs": [],
   "source": [
    "wd.execute_script(\"window.scrollTo(0, 50000);\")"
   ]
  },
  {
   "cell_type": "code",
   "execution_count": 73,
   "id": "1790e68e",
   "metadata": {},
   "outputs": [
    {
     "name": "stderr",
     "output_type": "stream",
     "text": [
      "<ipython-input-73-733aecd59cee>:1: DeprecationWarning: find_elements_by_* commands are deprecated. Please use find_elements() instead\n",
      "  search_list = wd.find_elements_by_css_selector('.job-search-card')\n"
     ]
    },
    {
     "data": {
      "text/plain": [
       "173"
      ]
     },
     "execution_count": 73,
     "metadata": {},
     "output_type": "execute_result"
    }
   ],
   "source": [
    "search_list = wd.find_elements_by_css_selector('.job-search-card')\n",
    "len(search_list)"
   ]
  },
  {
   "cell_type": "code",
   "execution_count": 74,
   "id": "1db62d31",
   "metadata": {},
   "outputs": [
    {
     "data": {
      "text/plain": [
       "'Snappyhires'"
      ]
     },
     "execution_count": 74,
     "metadata": {},
     "output_type": "execute_result"
    }
   ],
   "source": [
    "search_list[0].find_element_by_css_selector('.base-search-card__subtitle').text"
   ]
  },
  {
   "cell_type": "code",
   "execution_count": 12,
   "id": "e313b0b0",
   "metadata": {},
   "outputs": [],
   "source": [
    "# item = search_list[0]"
   ]
  },
  {
   "cell_type": "code",
   "execution_count": 17,
   "id": "11a449a2",
   "metadata": {},
   "outputs": [
    {
     "data": {
      "text/plain": [
       "<selenium.webdriver.remote.webelement.WebElement (session=\"4ddf61f602e53ce840888d1788ac942b\", element=\"3e6d2551-72ed-49a3-b849-70f495772ac2\")>"
      ]
     },
     "execution_count": 17,
     "metadata": {},
     "output_type": "execute_result"
    }
   ],
   "source": [
    "# item"
   ]
  },
  {
   "cell_type": "code",
   "execution_count": 19,
   "id": "53476b45",
   "metadata": {},
   "outputs": [
    {
     "data": {
      "text/plain": [
       "'Machine Learning Engineer'"
      ]
     },
     "execution_count": 19,
     "metadata": {},
     "output_type": "execute_result"
    }
   ],
   "source": [
    "# title = item.find_element_by_css_selector('.base-search-card__title').text\n",
    "# title"
   ]
  },
  {
   "cell_type": "code",
   "execution_count": 20,
   "id": "086c6508",
   "metadata": {},
   "outputs": [
    {
     "data": {
      "text/plain": [
       "'MajorBoost'"
      ]
     },
     "execution_count": 20,
     "metadata": {},
     "output_type": "execute_result"
    }
   ],
   "source": [
    "# company = item.find_element_by_css_selector('.base-search-card__subtitle').text\n",
    "# company"
   ]
  },
  {
   "cell_type": "code",
   "execution_count": 21,
   "id": "15adc2f9",
   "metadata": {},
   "outputs": [
    {
     "data": {
      "text/plain": [
       "'United States'"
      ]
     },
     "execution_count": 21,
     "metadata": {},
     "output_type": "execute_result"
    }
   ],
   "source": [
    "# location = item.find_element_by_css_selector('.job-search-card__location').text\n",
    "# location"
   ]
  },
  {
   "cell_type": "code",
   "execution_count": 23,
   "id": "ef75d613",
   "metadata": {},
   "outputs": [
    {
     "data": {
      "text/plain": [
       "'https://www.linkedin.com/jobs/view/machine-learning-engineer-at-majorboost-2876248954?refId=OOVjleM3bEmH9JZyFJs97w%3D%3D&trackingId=Ni0X%2B%2BqEiG692%2Fi%2FamghxA%3D%3D&position=1&pageNum=0&trk=public_jobs_jserp-result_search-card'"
      ]
     },
     "execution_count": 23,
     "metadata": {},
     "output_type": "execute_result"
    }
   ],
   "source": [
    "# url = item.find_element_by_css_selector('.base-card__full-link').get_attribute(\"href\")\n",
    "# url"
   ]
  },
  {
   "cell_type": "code",
   "execution_count": 25,
   "id": "eae1cbde",
   "metadata": {},
   "outputs": [
    {
     "data": {
      "text/plain": [
       "'3 days ago'"
      ]
     },
     "execution_count": 25,
     "metadata": {},
     "output_type": "execute_result"
    }
   ],
   "source": [
    "\n",
    "# posted  = item.find_element_by_css_selector('.job-search-card__listdate').text\n",
    "# posted"
   ]
  },
  {
   "cell_type": "code",
   "execution_count": 36,
   "id": "f7d1ad24",
   "metadata": {},
   "outputs": [],
   "source": [
    "import random\n",
    "import time"
   ]
  },
  {
   "cell_type": "code",
   "execution_count": 75,
   "id": "2982040c",
   "metadata": {},
   "outputs": [],
   "source": [
    "# time.sleep(random.uniform(0.5, 2))"
   ]
  },
  {
   "cell_type": "code",
   "execution_count": 75,
   "id": "4a43ae1a",
   "metadata": {},
   "outputs": [],
   "source": [
    "jobs = []\n",
    "def create_job_list(result_list):\n",
    "    for item in result_list:\n",
    "        \n",
    "        try:\n",
    "            title = item.find_element_by_css_selector('.base-search-card__title').text\n",
    "        except:\n",
    "            title = ''\n",
    "        try:\n",
    "            company = item.find_element_by_css_selector('.base-search-card__subtitle').text\n",
    "        except:\n",
    "            company = ''\n",
    "        time.sleep(random.uniform(0.5, 2))\n",
    "        try:\n",
    "            location = item.find_element_by_css_selector('.job-search-card__location').text\n",
    "        except:\n",
    "            location = ''\n",
    "        try:\n",
    "            url = item.find_element_by_css_selector('.base-card__full-link').get_attribute(\"href\")\n",
    "        except:\n",
    "            url = ''\n",
    "        try:\n",
    "            posted  = item.find_element_by_css_selector('.job-search-card__listdate').text\n",
    "        except:\n",
    "            posted = ''\n",
    "        new_job = {\n",
    "            \"company\": company,\n",
    "            \"title\": title,\n",
    "            \"location\": location,\n",
    "            \"posted\":posted,\n",
    "            \"href\": url\n",
    "            \n",
    "        }\n",
    "        print(new_job[\"company\"])\n",
    "        jobs.append(new_job)\n",
    "        "
   ]
  },
  {
   "cell_type": "code",
   "execution_count": 76,
   "id": "14620ae8",
   "metadata": {},
   "outputs": [
    {
     "name": "stdout",
     "output_type": "stream",
     "text": [
      "Snappyhires\n",
      "ProcessMiner Inc.\n",
      "Pivotal Analytics\n",
      "VDart\n",
      "Diverse Lynx\n",
      "KGS Technology Group, Inc\n",
      "Scalar Solutions\n",
      "SoftStandard Solutions\n",
      "Proximate Technologies Inc\n",
      "Open Systems Inc.\n",
      "Nayya\n",
      "Nayya\n",
      "Lucid, LLC\n",
      "Eonum, Inc.\n",
      "Charles Schwab\n",
      "Precision Technologies\n",
      "Hitachi Solutions America\n",
      "Chewy\n",
      "Chewy\n",
      "Ebullience.\n",
      "Chewy\n",
      "BioSpace\n",
      "Parafin\n",
      "Chewy\n",
      "Chewy\n",
      "Chewy\n",
      "Recurve\n",
      "Coders Data\n",
      "Chewy\n",
      "Chewy\n",
      "Zachary Piper Solutions\n",
      "Chewy\n",
      "Insight Global\n",
      "Iterate Labs\n",
      "Baylor Genetics\n",
      "Chewy\n",
      "Chewy\n",
      "ati\n",
      "Analytical Flavor Systems Inc.\n",
      "Smarter.ai\n",
      "Citizen\n",
      "Zemantics Inc.\n",
      "Blockchain.com\n",
      "CardinalHire\n",
      "Kesar Web\n",
      "Datadog\n",
      "Allstate\n",
      "Datadog\n",
      "Mastech Digital\n",
      "Actalent\n",
      "CVS Health\n",
      "Red Technologies\n",
      "Spot Freight\n",
      "Chewy\n",
      "Grubhub\n",
      "GoGuardian\n",
      "ALOIS Staffing\n",
      "USSOCOM\n",
      "CardinalHire\n",
      "Blockchain.com\n",
      "EyeCue Lab\n",
      "GSD LLC\n",
      "Red Technologies\n",
      "Genomics Institute Of The Novartis Research Foundation\n",
      "Demand Driven Technologies\n",
      "Sysco\n",
      "iMango Consulting\n",
      "Trusaic\n",
      "Royalty Pharma\n",
      "Anvizent\n",
      "Spot Freight\n",
      "Verikai\n",
      "HealthRhythms\n",
      "Verve IT Consulting Inc\n",
      "CloudSpace LLC\n",
      "Melville Biosecurity\n",
      "Humankind Investments\n",
      "The Home Depot\n",
      "Yellow Jacket inc\n",
      "Eurofins Lancaster Laboratories\n",
      "Walmart\n",
      "Retuurn\n",
      "Karwell Technologies Inc\n",
      "Hamilton Porter\n",
      "Walmart\n",
      "Nike\n",
      "Equator Therapeutics\n",
      "Storm Global Analytics\n",
      "Ruri Software Technologies LLC\n",
      "HelloFresh\n",
      "Zachary Piper Solutions\n",
      "Eurofins Lancaster Laboratories\n",
      "KORE Wireless\n",
      "Greyscale AI\n",
      "CVS Health\n",
      "AdTheorent\n",
      "Recruiting For Less\n",
      "Ross Stores, Inc.\n",
      "Stitch Fix\n",
      "The Home Depot\n",
      "Cohere Health\n",
      "Sightly\n",
      "Walmart\n",
      "Splice\n",
      "Fortune 500 client (Direct client)\n",
      "Covetrus\n",
      "AmerisourceBergen\n",
      "Eurofins Lancaster Laboratories\n",
      "Lockheed Martin\n",
      "Unfold\n",
      "Walmart\n",
      "Major League Baseball\n",
      "J.B. Hunt Transport Services, Inc.\n",
      "Circle\n",
      "Gap Inc.\n",
      "HelloFresh\n",
      "Collabera Inc.\n",
      "Grammarly\n",
      "Creative Artists Agency\n",
      "ICON International, Inc.\n",
      "The World's Largest Entertainment Group\n",
      "Radian\n",
      "PointCard™\n",
      "Grindr\n",
      "Techstars\n",
      "United Solutions, LLC\n",
      "Tiger Analytics\n",
      "Perch\n",
      "Ipsos North America\n",
      "SyllogisTeks\n",
      "The Boothby Group\n",
      "CVS Health\n",
      "GRA, Incorporated\n",
      "Los Angeles County Department of Public Health\n",
      "McKesson\n",
      "HelloFresh\n",
      "Townsquare Interactive\n",
      "Step\n",
      "Radian\n",
      "Blend360\n",
      "Angel Studios\n",
      "Pax8\n",
      "TCG\n",
      "Wizards of the Coast\n",
      "Dataiku\n",
      "Gap Inc.\n",
      "Beyond Finance\n",
      "Chewy\n",
      "Travelers\n",
      "Frequence\n",
      "Candy Digital\n",
      "IVY TECH SOLUTIONS INC\n",
      "Prolego\n",
      "Plume Design, Inc\n",
      "Heidrick & Struggles\n",
      "Collabera Inc.\n",
      "Evernote\n",
      "Arcules\n",
      "Lucid, LLC\n",
      "Bank of America\n",
      "The Home Depot\n",
      "Intel Corporation\n",
      "Shortest Track\n",
      "Children's Hospital of Philadelphia\n",
      "Chewy\n",
      "Dignity Health\n",
      "Mastercard\n",
      "Stitch Fix\n",
      "Atrilogy Solutions Group\n",
      "Vxplore\n",
      "HEALTH[at]SCALE Technologies\n",
      "Rokt\n",
      "Moloco\n"
     ]
    }
   ],
   "source": [
    "create_job_list(search_list)"
   ]
  },
  {
   "cell_type": "code",
   "execution_count": 77,
   "id": "6fd06042",
   "metadata": {},
   "outputs": [
    {
     "data": {
      "text/plain": [
       "173"
      ]
     },
     "execution_count": 77,
     "metadata": {},
     "output_type": "execute_result"
    }
   ],
   "source": [
    "len(jobs)"
   ]
  },
  {
   "cell_type": "code",
   "execution_count": 40,
   "id": "aa7b9ddc",
   "metadata": {},
   "outputs": [
    {
     "data": {
      "text/plain": [
       "{'company': 'Ruri Software Technologies LLC',\n",
       " 'title': 'Machine Learning Engineer',\n",
       " 'location': 'Tampa, FL',\n",
       " 'posted': '',\n",
       " 'href': 'https://www.linkedin.com/jobs/view/machine-learning-engineer-at-ruri-software-technologies-llc-2880928202?refId=BpPctBavw254Fhli59KgYg%3D%3D&trackingId=IhRwaCADAxX0IH88S29wyA%3D%3D&position=1&pageNum=0&trk=public_jobs_jserp-result_search-card'}"
      ]
     },
     "execution_count": 40,
     "metadata": {},
     "output_type": "execute_result"
    }
   ],
   "source": [
    "jobs[0]"
   ]
  },
  {
   "cell_type": "code",
   "execution_count": 78,
   "id": "e3ee2619",
   "metadata": {},
   "outputs": [
    {
     "name": "stdout",
     "output_type": "stream",
     "text": [
      "dict_keys(['company', 'title', 'location', 'posted', 'href'])\n"
     ]
    }
   ],
   "source": [
    "import csv\n",
    "keys = jobs[0].keys()\n",
    "print(keys)\n",
    "\n",
    "with open('Data_Scientist_list_175.csv', 'w', newline='') as output_file:\n",
    "    dict_writer = csv.DictWriter(output_file, keys)\n",
    "    dict_writer.writeheader()\n",
    "    dict_writer.writerows(jobs)"
   ]
  },
  {
   "cell_type": "code",
   "execution_count": 84,
   "id": "294fceef",
   "metadata": {},
   "outputs": [],
   "source": [
    "# myjob = jobs[0]"
   ]
  },
  {
   "cell_type": "code",
   "execution_count": 85,
   "id": "04822079",
   "metadata": {},
   "outputs": [],
   "source": [
    "# wd.get(myjob['href'])"
   ]
  },
  {
   "cell_type": "code",
   "execution_count": 86,
   "id": "bac1d3b0",
   "metadata": {},
   "outputs": [],
   "source": [
    "# wd.execute_script(\"document.querySelector('.show-more-less-html__button').click()\")"
   ]
  },
  {
   "cell_type": "code",
   "execution_count": 88,
   "id": "0108949b",
   "metadata": {},
   "outputs": [
    {
     "name": "stderr",
     "output_type": "stream",
     "text": [
      "<ipython-input-88-e264fe150437>:1: DeprecationWarning: find_element_by_* commands are deprecated. Please use find_element() instead\n",
      "  description = wd.find_element_by_css_selector('.description__text').text\n"
     ]
    },
    {
     "data": {
      "text/plain": [
       "'MajorBoost - Machine Learning Engineer MajorBoost uses NLP to automate phone calls for doctors’ offices, so patients and healthcare workers can get coverage and claims info. MajorBoost is recruiting Machine Learning Engineers to help us build and scale our call automation. We’re looking for developers who want to have an impact, have a growth mindset, and enjoy solving challenging problems. At MajorBoost, you will bring AI to healthcare workers, empowering them to benefit patients. As an early team member, you’ll get to make a difference and get a slice of the company.  Our tech stack leverages C#, .NET, and Python. As a member of the conversational AI team, you will collaborate to build beautiful and elegant solutions to complex problems. You will be responsible for architecting the applications that users use daily and should be comfortable building and shipping end-to-end vertically integrated features. Position: Full TimeBenefits: Eligible / Medical and 401kLocation: Remote / Anywhere in the USNot open to sponsorships or H-1B visa holders Job responsibilities:Own (design, build, evaluate, deploy, monitor and improve) at least one of the ML components in MajorBoost’s call automation engineWork closely with engineering teams to build and improve product features and internal toolsLearn, inform, influence and implement best practices for ML, MLops, Data Engineering, DataOps across all MajorBoost teamsCollaborate with science and engineering teams to raise internal AI/ML benchmarksLeverage MajorBoost’s data and market insights to innovate healthcare solutions through AI and machine learning What we look for:3+ years professional experience with machine learningProficiency in Python (C# is a bonus)Solid grasp of computer science, algorithms and data structuresExperience with shipping products in cloud environmentsAdaptable, humble, and interested in making an impactBonus: Formal education in computer science or a similar fieldBonus: Experience with conversational AIBonus: Experience with machine learning in production / MLops What we offer:A fast-paced, inclusive and collaborative environmentBuild category-defining productsWork with world-class talentA chance to be an early member of the team, with equity to matchMake an impact, make healthcare more efficientMedical coverage, 401K options MajorBoost MajorBoost automates phone calls for doctors’ offices. Healthcare staff spend hours on the phone to understand benefits and claim status. MajorBoost uses AI techniques to handle phone calls, freeing up healthcare staff to focus on taking care of patients. Founded at the Allen Institute for Artificial Intelligence, MajorBoost is led by technologists with a mix of entrepreneurial and large-scale AI experience. Show less'"
      ]
     },
     "execution_count": 88,
     "metadata": {},
     "output_type": "execute_result"
    }
   ],
   "source": [
    "\n",
    "# description = wd.find_element_by_css_selector('.description__text').text\n",
    "# description.replace('\\n','')"
   ]
  },
  {
   "cell_type": "code",
   "execution_count": 91,
   "id": "708f7edc",
   "metadata": {},
   "outputs": [
    {
     "name": "stdout",
     "output_type": "stream",
     "text": [
      "Own (design, build, evaluate, deploy, monitor and improve) at least one of the ML components in MajorBoost’s call automation engine|Work closely with engineering teams to build and improve product features and internal tools|Learn, inform, influence and implement best practices for ML, MLops, Data Engineering, DataOps across all MajorBoost teams|Collaborate with science and engineering teams to raise internal AI/ML benchmarks|Leverage MajorBoost’s data and market insights to innovate healthcare solutions through AI and machine learning|3+ years professional experience with machine learning|Proficiency in Python (C# is a bonus)|Solid grasp of computer science, algorithms and data structures|Experience with shipping products in cloud environments|Adaptable, humble, and interested in making an impact|Bonus: Formal education in computer science or a similar field|Bonus: Experience with conversational AI|Bonus: Experience with machine learning in production / MLops|A fast-paced, inclusive and collaborative environment|Build category-defining products|Work with world-class talent|A chance to be an early member of the team, with equity to match|Make an impact, make healthcare more efficient|Medical coverage, 401K options\n"
     ]
    },
    {
     "name": "stderr",
     "output_type": "stream",
     "text": [
      "<ipython-input-91-4101087d4d77>:2: DeprecationWarning: find_elements_by_* commands are deprecated. Please use find_elements() instead\n",
      "  skills = wd.find_elements_by_css_selector('.description__text li')\n"
     ]
    }
   ],
   "source": [
    "# skill_list = []\n",
    "# skills = wd.find_elements_by_css_selector('.description__text li')\n",
    "# for skill in skills:\n",
    "#     if(skill.text.strip() != ''):\n",
    "#         skill_list.append(skill.text.strip())\n",
    "# skillsss = '|'.join(skill_list)\n",
    "# print(skillsss)"
   ]
  },
  {
   "cell_type": "code",
   "execution_count": 90,
   "id": "84d6683f",
   "metadata": {},
   "outputs": [
    {
     "data": {
      "text/plain": [
       "['Own (design, build, evaluate, deploy, monitor and improve) at least one of the ML components in MajorBoost’s call automation engine',\n",
       " 'Work closely with engineering teams to build and improve product features and internal tools',\n",
       " 'Learn, inform, influence and implement best practices for ML, MLops, Data Engineering, DataOps across all MajorBoost teams',\n",
       " 'Collaborate with science and engineering teams to raise internal AI/ML benchmarks',\n",
       " 'Leverage MajorBoost’s data and market insights to innovate healthcare solutions through AI and machine learning',\n",
       " '3+ years professional experience with machine learning',\n",
       " 'Proficiency in Python (C# is a bonus)',\n",
       " 'Solid grasp of computer science, algorithms and data structures',\n",
       " 'Experience with shipping products in cloud environments',\n",
       " 'Adaptable, humble, and interested in making an impact',\n",
       " 'Bonus: Formal education in computer science or a similar field',\n",
       " 'Bonus: Experience with conversational AI',\n",
       " 'Bonus: Experience with machine learning in production / MLops',\n",
       " 'A fast-paced, inclusive and collaborative environment',\n",
       " 'Build category-defining products',\n",
       " 'Work with world-class talent',\n",
       " 'A chance to be an early member of the team, with equity to match',\n",
       " 'Make an impact, make healthcare more efficient',\n",
       " 'Medical coverage, 401K options']"
      ]
     },
     "execution_count": 90,
     "metadata": {},
     "output_type": "execute_result"
    }
   ],
   "source": [
    "# skill_list"
   ]
  },
  {
   "cell_type": "code",
   "execution_count": 92,
   "id": "3126c53f",
   "metadata": {},
   "outputs": [],
   "source": [
    "# jobs_copy = jobs.copy()"
   ]
  },
  {
   "cell_type": "code",
   "execution_count": null,
   "id": "e1381919",
   "metadata": {},
   "outputs": [],
   "source": [
    "# .encode(\"utf-8\")"
   ]
  },
  {
   "cell_type": "code",
   "execution_count": 79,
   "id": "cc67a84e",
   "metadata": {},
   "outputs": [],
   "source": [
    "def get_description_and_skill_list(jobs_list):\n",
    "    for job in jobs_list:\n",
    "        if(job['href'])!='':\n",
    "            print(job['company'])\n",
    "            wd.get(job['href'])\n",
    "            time.sleep(random.uniform( 3,5))\n",
    "            try:\n",
    "                wd.execute_script(\"document.querySelector('.show-more-less-html__button').click()\")\n",
    "                job[\"description\"] = wd.find_element_by_css_selector('.description__text').text.replace('\\n','')\n",
    "                skill_list = []\n",
    "                skills = wd.find_elements_by_css_selector('.description__text li')\n",
    "                for skill in skills:\n",
    "                    if(skill.text.strip() != ''):\n",
    "                        skill_list.append(skill.text.strip())\n",
    "                job[\"skills\"] = '|'.join(skill_list).encode(\"utf-8\")\n",
    "                print(\"done\")\n",
    "            except:\n",
    "                job['description']=''\n",
    "                job['skills'] = ''"
   ]
  },
  {
   "cell_type": "code",
   "execution_count": 148,
   "id": "7e6a0ea3",
   "metadata": {
    "collapsed": true
   },
   "outputs": [
    {
     "name": "stdout",
     "output_type": "stream",
     "text": [
      "[{'company': 'MajorBoost', 'title': 'Machine Learning Engineer', 'location': 'United States', 'posted': '3 days ago', 'href': 'https://www.linkedin.com/jobs/view/machine-learning-engineer-at-majorboost-2876248954?refId=3iMOZlN063Zo4yvEEd6H7w%3D%3D&trackingId=LENvDJZOZHJTcTbICvW9jA%3D%3D&position=1&pageNum=0&trk=public_jobs_jserp-result_search-card', 'description': b'MajorBoost - Machine Learning Engineer MajorBoost uses NLP to automate phone calls for doctors\\xe2\\x80\\x99 offices, so patients and healthcare workers can get coverage and claims info. MajorBoost is recruiting Machine Learning Engineers to help us build and scale our call automation. We\\xe2\\x80\\x99re looking for developers who want to have an impact, have a growth mindset, and enjoy solving challenging problems. At MajorBoost, you will bring AI to healthcare workers, empowering them to benefit patients. As an early team member, you\\xe2\\x80\\x99ll get to make a difference and get a slice of the company.  Our tech stack leverages C#, .NET, and Python. As a member of the conversational AI team, you will collaborate to build beautiful and elegant solutions to complex problems. You will be responsible for architecting the applications that users use daily and should be comfortable building and shipping end-to-end vertically integrated features. Position: Full TimeBenefits: Eligible / Medical and 401kLocation: Remote / Anywhere in the USNot open to sponsorships or H-1B visa holders Job responsibilities:Own (design, build, evaluate, deploy, monitor and improve) at least one of the ML components in MajorBoost\\xe2\\x80\\x99s call automation engineWork closely with engineering teams to build and improve product features and internal toolsLearn, inform, influence and implement best practices for ML, MLops, Data Engineering, DataOps across all MajorBoost teamsCollaborate with science and engineering teams to raise internal AI/ML benchmarksLeverage MajorBoost\\xe2\\x80\\x99s data and market insights to innovate healthcare solutions through AI and machine learning What we look for:3+ years professional experience with machine learningProficiency in Python (C# is a bonus)Solid grasp of computer science, algorithms and data structuresExperience with shipping products in cloud environmentsAdaptable, humble, and interested in making an impactBonus: Formal education in computer science or a similar fieldBonus: Experience with conversational AIBonus: Experience with machine learning in production / MLops What we offer:A fast-paced, inclusive and collaborative environmentBuild category-defining productsWork with world-class talentA chance to be an early member of the team, with equity to matchMake an impact, make healthcare more efficientMedical coverage, 401K options MajorBoost MajorBoost automates phone calls for doctors\\xe2\\x80\\x99 offices. Healthcare staff spend hours on the phone to understand benefits and claim status. MajorBoost uses AI techniques to handle phone calls, freeing up healthcare staff to focus on taking care of patients. Founded at the Allen Institute for Artificial Intelligence, MajorBoost is led by technologists with a mix of entrepreneurial and large-scale AI experience. Show less', 'skills': b'Own (design, build, evaluate, deploy, monitor and improve) at least one of the ML components in MajorBoost\\xe2\\x80\\x99s call automation engine|Work closely with engineering teams to build and improve product features and internal tools|Learn, inform, influence and implement best practices for ML, MLops, Data Engineering, DataOps across all MajorBoost teams|Collaborate with science and engineering teams to raise internal AI/ML benchmarks|Leverage MajorBoost\\xe2\\x80\\x99s data and market insights to innovate healthcare solutions through AI and machine learning|3+ years professional experience with machine learning|Proficiency in Python (C# is a bonus)|Solid grasp of computer science, algorithms and data structures|Experience with shipping products in cloud environments|Adaptable, humble, and interested in making an impact|Bonus: Formal education in computer science or a similar field|Bonus: Experience with conversational AI|Bonus: Experience with machine learning in production / MLops|A fast-paced, inclusive and collaborative environment|Build category-defining products|Work with world-class talent|A chance to be an early member of the team, with equity to match|Make an impact, make healthcare more efficient|Medical coverage, 401K options'}, {'company': 'Lovelytics', 'title': 'Machine Learning Engineer', 'location': 'United States', 'posted': '2 days ago', 'href': 'https://www.linkedin.com/jobs/view/machine-learning-engineer-at-lovelytics-2880043841?refId=3iMOZlN063Zo4yvEEd6H7w%3D%3D&trackingId=n0yGGKoQIEIMxGaAKCHvkA%3D%3D&position=2&pageNum=0&trk=public_jobs_jserp-result_search-card', 'description': b\"At Lovelytics we love to solve real problems with big data. We work with clients from all over to help them understand their data and make better decisions... and we're looking for people to join us!As a Machine Learning Engineer Consultant (entry-level), you'll be introduced to the world of Databricks and ML at Lovelytics. Ideally, you have the foundational knowledge in coding and computer science that will allow you to get rapid immersion in the field of technology consulting. You'll have the opportunity to work closely with experienced engineers, data scientists, and consultants to sharpen your technical skills and get exposure to working with exciting organizations.In case you're wondering...For us, the ML Engineering role reflects our experiences in applying computer science and data science concepts at a true enterprise scale. Solving strategic business problems with technology requires a breadth of knowledge, the ability to put on different hats for different jobs, and a willingness to get your hands dirty with technical implementation.Lovelytics consultants who are willing to take on this challenge will develop a skill set to differentiate themselves from a sea of junior developers and \\xe2\\x80\\x9cBootcamp\\xe2\\x80\\x9d data scientists.ResponsibilitiesAlways be learning. Within the first month, you will be expected to start earning credentials that will demonstrate your qualifications to our client base and partners.Work with agility and wear many hats in a scrappy, entrepreneurial environment. Depending on the day you may be tasked with complex distributed systems problems, or data science analytics.Problem solve independently and deliver collaboratively. You will be expected to handle abstract problems with loosely defined parameters, while also working with a team on a common mission.Become Databricks certified in various areas to work direct with the clientUse tools like Apache Spark and frameworks such as Hadoop to solve big data problemsQualificationsBachelor\\xe2\\x80\\x99s degree in Computer Science or related fieldA passion for Big Data\\xe2\\x80\\x9cConversational\\xe2\\x80\\x9d proficiency in any programming language. You will be asked to share your \\xe2\\x80\\x9creal world\\xe2\\x80\\x9d experiences with your language of choice, and interviews will have a basic coding component.Great communication skills and demonstrated professionalismFundamental understanding of databases and distributed systems \\xe2\\x80\\x93 classic challenges, patterns, and frameworks. You don\\xe2\\x80\\x99t necessarily have experience with Spark, but you understand the basic concepts that it is built on.Experience with any or all of the following- Hadoop, Pyspark, apache-spark, Hive, Yarn preferredFundamental understanding of machine learning. You haven\\xe2\\x80\\x99t necessarily won a Kaggle competition, but know what it means when someone talks about \\xe2\\x80\\x9ctraining a model\\xe2\\x80\\x9d.Strong spoken and written English. You will be expected to communicate effectively with highly technical and also non-technical stakeholders.What Makes Us Excited About a CandidateYou have a positive attitude coupled with excellent communication skills.Your entrepreneurial spirit pushes you to find creative solutions for our clientsYou are motivated by providing superior solutions and disrupting the status quo.You are not afraid to voice your ideas about improving methodologies and processes.You thrive in the excitement of a fast-growing company.You are great with people and enjoy leading a technical teamSome of Our BenefitsUnlimited paid time off with an annual minimum amount of days employees must use.401K matching programMedical, dental, life, and other insurance coveragesPaid parental leaveFlexible work environmentCompany-sponsored Databricks (and other) certification coursesTransportation benefits, including Arlington Bike Share subscription and pre-tax travel reimbursements.Frequent out-of-office company outings.Quarterly and end-of-year company bonuses based on company and individual performanceShow less\", 'skills': b'Always be learning. Within the first month, you will be expected to start earning credentials that will demonstrate your qualifications to our client base and partners.|Work with agility and wear many hats in a scrappy, entrepreneurial environment. Depending on the day you may be tasked with complex distributed systems problems, or data science analytics.|Problem solve independently and deliver collaboratively. You will be expected to handle abstract problems with loosely defined parameters, while also working with a team on a common mission.|Become Databricks certified in various areas to work direct with the client|Use tools like Apache Spark and frameworks such as Hadoop to solve big data problems|Bachelor\\xe2\\x80\\x99s degree in Computer Science or related field|A passion for Big Data|\\xe2\\x80\\x9cConversational\\xe2\\x80\\x9d proficiency in any programming language. You will be asked to share your \\xe2\\x80\\x9creal world\\xe2\\x80\\x9d experiences with your language of choice, and interviews will have a basic coding component.|Great communication skills and demonstrated professionalism|Fundamental understanding of databases and distributed systems \\xe2\\x80\\x93 classic challenges, patterns, and frameworks. You don\\xe2\\x80\\x99t necessarily have experience with Spark, but you understand the basic concepts that it is built on.|Experience with any or all of the following- Hadoop, Pyspark, apache-spark, Hive, Yarn preferred|Fundamental understanding of machine learning. You haven\\xe2\\x80\\x99t necessarily won a Kaggle competition, but know what it means when someone talks about \\xe2\\x80\\x9ctraining a model\\xe2\\x80\\x9d.|Strong spoken and written English. You will be expected to communicate effectively with highly technical and also non-technical stakeholders.|You have a positive attitude coupled with excellent communication skills.|Your entrepreneurial spirit pushes you to find creative solutions for our clients|You are motivated by providing superior solutions and disrupting the status quo.|You are not afraid to voice your ideas about improving methodologies and processes.|You thrive in the excitement of a fast-growing company.|You are great with people and enjoy leading a technical team|Unlimited paid time off with an annual minimum amount of days employees must use.|401K matching program|Medical, dental, life, and other insurance coverages|Paid parental leave|Flexible work environment|Company-sponsored Databricks (and other) certification courses|Transportation benefits, including Arlington Bike Share subscription and pre-tax travel reimbursements.|Frequent out-of-office company outings.|Quarterly and end-of-year company bonuses based on company and individual performance'}, {'company': 'care.coach', 'title': 'Machine Learning Engineer', 'location': 'Millbrae, CA', 'posted': '3 days ago', 'href': 'https://www.linkedin.com/jobs/view/machine-learning-engineer-at-care-coach-2876631824?refId=3iMOZlN063Zo4yvEEd6H7w%3D%3D&trackingId=R8DcFNd%2F%2BP7M0t413Potxw%3D%3D&position=3&pageNum=0&trk=public_jobs_jserp-result_search-card', 'description': b\"At\\xe2\\x80\\xafcare.coach, we are pioneering human-in-the-loop digital avatars that support behavioral health among the highest-need, highest-risk patients (typically elderly) both in the hospital and at home.\\xe2\\x80\\xafPlease check out the following video to understand how we help vulnerable patients living at home:https://care.coach/2-min-demoWe're looking for an experienced and mission-aligned\\xe2\\x80\\xafML\\xe2\\x80\\xafengineer to join our team in a key engineering role --Minimum Requirements:Bachelors/Masters in a related field2+ years of experience (including any applicable work in grad school) developing machine learning applications for practical use1+ years in an agile software development environment, preferably with an early-stage startup1+\\xe2\\x80\\xafyears\\xe2\\x80\\xafdeveloping web-based applications, including web-based ML/data infrastructureAdditional Desired Experience:Audio signal processing, ASR, NLP, and NLG/dialogue for conversational automationComputer vision for human activity and sentiment classificationDevelopment of data mining, analytics, dashboards and reporting systemsLAMP stack w/ PHP, and\\xe2\\x80\\xafDjango web frameworkLocation: Millbrae, CAShow less\", 'skills': b'Minimum Requirements:|Bachelors/Masters in a related field|2+ years of experience (including any applicable work in grad school) developing machine learning applications for practical use|1+ years in an agile software development environment, preferably with an early-stage startup|1+\\xe2\\x80\\xafyears\\xe2\\x80\\xafdeveloping web-based applications, including web-based ML/data infrastructure|Additional Desired Experience:|Audio signal processing, ASR, NLP, and NLG/dialogue for conversational automation|Computer vision for human activity and sentiment classification|Development of data mining, analytics, dashboards and reporting systems|LAMP stack w/ PHP, and\\xe2\\x80\\xafDjango web framework|Location: Millbrae, CA'}, {'company': 'Upstart', 'title': 'Machine Learning Engineer', 'location': 'United States', 'posted': '', 'href': 'https://www.linkedin.com/jobs/view/machine-learning-engineer-at-upstart-2820188502?refId=3iMOZlN063Zo4yvEEd6H7w%3D%3D&trackingId=c5RCId5wrhCLX39f%2B4qdsQ%3D%3D&position=4&pageNum=0&trk=public_jobs_jserp-result_search-card', 'description': '', 'skills': ''}, {'company': 'Huupe', 'title': 'Computer Vision Software Engineer', 'location': 'Los Angeles Metropolitan Area', 'posted': '6 days ago', 'href': 'https://www.linkedin.com/jobs/view/computer-vision-software-engineer-at-huupe-2866118056?refId=3iMOZlN063Zo4yvEEd6H7w%3D%3D&trackingId=OvGjRTDPc20KAohy69OdEg%3D%3D&position=5&pageNum=0&trk=public_jobs_jserp-result_search-card', 'description': '', 'skills': ''}, {'company': 'Virta Health', 'title': 'Machine Learning Engineer, Platform - Applied AI', 'location': 'New York, NY', 'posted': '3 days ago', 'href': 'https://www.linkedin.com/jobs/view/machine-learning-engineer-platform-applied-ai-at-virta-health-2876637920?refId=3iMOZlN063Zo4yvEEd6H7w%3D%3D&trackingId=obXFA%2BqnDfIeR59fsE69zA%3D%3D&position=6&pageNum=0&trk=public_jobs_jserp-result_search-card', 'description': b\"Virta Health is on a mission to transform diabetes care and reverse the type 2 diabetes epidemic. Current treatment approaches aren't working\\xe2\\x80\\x94over half of US adults have either type 2 diabetes or prediabetes. Virta is changing this by helping people reverse type 2 diabetes through innovations in technology, personalized nutrition, and virtual care delivery reinvented from the ground up. We have raised over $350 million from top-tier investors, and partner with the largest health plans, employers, and government organizations to help their employees and members restore their health and live diabetes-free. Join us on our mission to reverse diabetes in 100M people by 2025.As a full stack health care company of physicians, engineers, marketers and more under one roof, Virta collects comprehensive data on our patients' experience. The Applied AI team leverages this data to build the next generation of health care for chronic diseases. We build and interpret intelligent systems that power our product in order to scale the treatment, drive patient acquisition, and improve patient outcomes.We strive to be a self-reliant, full-stack AI team. As an engineer focused on our platform, you are passionate about improving the infrastructure, workflows, and tooling that Applied AI uses to deliver its systems. The ideal candidate gets energy from helping colleagues train, deploy, and operate production AI systems with less friction, and would be excited to spend the majority of their time in service of related goals.Check out our technical blog to find out how Virta is developing the next generation of healthcare technology: https://www.virtahealth.com/health-techResponsibilitiesBuilding extensible, self-service tooling and platforms across areas, including (but not limited to):Model Development: Enable faster and richer model dev iterations via GPU acceleration, distributed training, and supporting a broad ecosystem of ML frameworks. Improve the speed and scalability of our data processing capabilities with Cloud technologies like Dataflow.Model Serving: Define patterns to multi-model systems at varying latency requirements (e.g. to support daily batch pipelines or low-latency inference)ML Ops: Lead the team in critical technical choices, such as how we approach production model monitoring, ML-native CI/CD practices, and model lifecycle management.Forge close relationships with senior technical leaders from infrastructure and product engineering. Drive towards strong service contracts across Virta's technology organization so Applied AI team members can ship autonomously with minimal handoffs.On occasion, partner with ML engineers as they research, develop, deploy, and monitor intelligent systems that improve patient acquisition and outcomes at scale.90 Day PlanWithin your first 90 days at Virta, we expect you will do the following:Immerse yourself in the rich data we collect in service of our patients' care. Our data includes high dimensional clinical time series, meal images, natural language discourse, insurance claims, app interactions, and much moreHelp us deploy one new ML product or make a major modification to an existing ML product.Draft a roadmap for our tooling and infrastructure. Develop opinions on what we should build vs. buyWork with team members to enable efficiency improvements across their ML related tasksTeach and inspire other Applied AI team members on your areas of expertise through knowledge sharing, pair programming, and code reviewsMust-HavesYou have 4+ years of experience as a backend, infrastructure, or ML engineer with experience applying your skills to develop an AI/ML platform. For a senior position, you have 6+ years of relevant experience.You are passionate about designing scalable, fault tolerant machine learning systems that interact directly with production trafficYou understand the fundamentals of machine learning, enough to partner with Machine Learning Engineers to incorporate their evolving needs into our platformYou have experience with modern data processing technologies like Apache Spark or Apache Beam, and/or model serving technologies like Kubeflow, Seldon Core, or Ray ServeYou excel at communicating progress, trade-offs, and the results of your work to team members from other functionsValues-driven cultureVirta's company values drive our culture, so you'll do well if:You put people first and take care of yourself, your peers, and our patients equallyYou have a strong sense of ownership and take initiative while empowering others to do the sameYou prioritize positive impact over busy workYou have no ego and understand that everyone has something to bring to the table regardless of experienceYou appreciate transparency and promote trust and empowerment through open access of informationYou are evidence-based and prioritize data and science over seniority or dogmaYou take risks and rapidly iterateAs part of your duties at Virta, you may come in contact with sensitive patient information that is governed by HIPAA. Throughout your career at Virta, you will be expected to follow Virta's security and privacy procedures to ensure our patients' information remains strictly confidential. Security and privacy training will be provided.Show less\", 'skills': b\"Building extensible, self-service tooling and platforms across areas, including (but not limited to):|Model Development: Enable faster and richer model dev iterations via GPU acceleration, distributed training, and supporting a broad ecosystem of ML frameworks. Improve the speed and scalability of our data processing capabilities with Cloud technologies like Dataflow.|Model Serving: Define patterns to multi-model systems at varying latency requirements (e.g. to support daily batch pipelines or low-latency inference)|ML Ops: Lead the team in critical technical choices, such as how we approach production model monitoring, ML-native CI/CD practices, and model lifecycle management.|Forge close relationships with senior technical leaders from infrastructure and product engineering. Drive towards strong service contracts across Virta's technology organization so Applied AI team members can ship autonomously with minimal handoffs.|On occasion, partner with ML engineers as they research, develop, deploy, and monitor intelligent systems that improve patient acquisition and outcomes at scale.|Immerse yourself in the rich data we collect in service of our patients' care. Our data includes high dimensional clinical time series, meal images, natural language discourse, insurance claims, app interactions, and much more|Help us deploy one new ML product or make a major modification to an existing ML product.|Draft a roadmap for our tooling and infrastructure. Develop opinions on what we should build vs. buy|Work with team members to enable efficiency improvements across their ML related tasks|Teach and inspire other Applied AI team members on your areas of expertise through knowledge sharing, pair programming, and code reviews|You have 4+ years of experience as a backend, infrastructure, or ML engineer with experience applying your skills to develop an AI/ML platform. For a senior position, you have 6+ years of relevant experience.|You are passionate about designing scalable, fault tolerant machine learning systems that interact directly with production traffic|You understand the fundamentals of machine learning, enough to partner with Machine Learning Engineers to incorporate their evolving needs into our platform|You have experience with modern data processing technologies like Apache Spark or Apache Beam, and/or model serving technologies like Kubeflow, Seldon Core, or Ray Serve|You excel at communicating progress, trade-offs, and the results of your work to team members from other functions|You put people first and take care of yourself, your peers, and our patients equally|You have a strong sense of ownership and take initiative while empowering others to do the same|You prioritize positive impact over busy work|You have no ego and understand that everyone has something to bring to the table regardless of experience|You appreciate transparency and promote trust and empowerment through open access of information|You are evidence-based and prioritize data and science over seniority or dogma|You take risks and rapidly iterate\"}, {'company': 'FINESSE', 'title': 'Machine Learning Engineer', 'location': 'Los Angeles, CA', 'posted': '5 months ago', 'href': 'https://www.linkedin.com/jobs/view/machine-learning-engineer-at-finesse-2678756695?refId=3iMOZlN063Zo4yvEEd6H7w%3D%3D&trackingId=dheV9XMKbtzoquT2Zibo4Q%3D%3D&position=7&pageNum=0&trk=public_jobs_jserp-result_search-card', 'description': b'Who We AreThe first AI-led fashion house - leveraging machine learning & statistics to identify trends, predict demand and optimize distribution, creating hit sell-outs every time in record time while avoiding the overproduction inherent to the fashion industry. Named \"Zara meets Netflix\" by Forbes, we are on a mission to completely upend the fashion industry, creating an entirely new paradigm of what a fashion house of the future looks like.The WorkYou will creatively architect new data sources & models to improve our trend prediction and leverage the latest techniques in AI and machine learning across computer vision, sentiment analysis, and recommendation systems to optimize our trend analysis pipeline. You will work with large datasets consisting of highly variant & fascinating data that powers the very core of trends around us, making sense out of highly complex data sources.About YouYou are a brilliant machine learning engineer who is excited about applying your ML & systems expertise to create a radically new approach to trend prediction within a massive industry. You love all things data - especially social data - and are burning to make sense out of the myriad of signals around us. You embrace big data and obsess over performance and scalability - always striving to improve both product and performance. You think for the long-term, setting up systems that benchmark progress, prevent regressions, and are easily maintainable by other collaborators. And most importantly, you burn to to radically change an entire industry.Recommended BackgroundStrong fundamentals in computer science and mathExpertise working with large data sets (ideally social data) and deriving unique insightsStrong fundamental understanding of at least two of the following: Natural Language Processing, Computer Vision, Graph Analysis, Stochastic Modeling, Time Series AnalysisExperience mining data and building robust, large scale machine learning systemsRelevant Technologies: AWS, Docker, SciKit, PyTorch, Tensorflow, KerasWhat You\\xe2\\x80\\x99ll Love at FINESSEBeing at the forefront of and working towards creating a culture-defining new productA close-knit, extremely passionate & talented team excited about changing the face of fashionA diverse team and culture that values inclusivity and individuality as highest priorityCompany sponsored happy hours and outingsExcellent benefits: Medical, dental and vision insurance; 401kPaid maternity and paternity leaveFree Friday lunchesUnlimited PTO and flexible working hoursShow less', 'skills': b'Strong fundamentals in computer science and math|Expertise working with large data sets (ideally social data) and deriving unique insights|Strong fundamental understanding of at least two of the following: Natural Language Processing, Computer Vision, Graph Analysis, Stochastic Modeling, Time Series Analysis|Experience mining data and building robust, large scale machine learning systems|Being at the forefront of and working towards creating a culture-defining new product|A close-knit, extremely passionate & talented team excited about changing the face of fashion|A diverse team and culture that values inclusivity and individuality as highest priority|Company sponsored happy hours and outings|Excellent benefits: Medical, dental and vision insurance; 401k|Paid maternity and paternity leave|Free Friday lunches|Unlimited PTO and flexible working hours'}, {'company': 'Lucid, LLC', 'title': 'Data Scientist', 'location': 'New Orleans, LA', 'posted': '', 'href': 'https://www.linkedin.com/jobs/view/data-scientist-at-lucid-llc-2881545720?refId=3iMOZlN063Zo4yvEEd6H7w%3D%3D&trackingId=x4VUudcEr4gui5lsgHM1iw%3D%3D&position=8&pageNum=0&trk=public_jobs_jserp-result_search-card', 'description': b\"Lucid is a research technology (ResTech) platform that provides programmatic access to first-party data. With respondents in more than 100 countries, Lucid enables anyone, in any industry, to survey online audiences and get the answers they need. These answers reveal the sentiments, motivations, and behaviors of target demographics data that can be used to build business strategies, measure the impact of digital advertising, publish research, and more. Founded in 2010, Lucid is headquartered in New Orleans, LA with offices throughout the US, Europe, and Asia.As a Product Data Scientist you will have the opportunity to collaborate with product and engineering teams to work on Survey Design and Measurements, Identity, Trust & Safety and more. This includes product analyses, validation and establishing statistical methodology standards and development. The right candidate has the ability to independently research, develop and maintain products that align Lucid capabilities with market claims.ResponsibilitesSupports research and discovery phase for new and existing products. The primary areas include but are not limited to trend analyses, outlier detection, generalization, harmonization, as well as working with different data sources.Analyze large and diverse datasets to extract impactful insights that can drive product strategy. Collaborate with cross-functional teams to design, implement, and test new and existing measurement products- develop statistical modeling and methodologies.End-to-end development and maintenance of Lucid's measurement products.Ongoing evaluation and validation of both internal and external products to ensure Lucid's success.Communicate insights and recommendations through visualizations and presentations that will resonate with a wide range of audiences.QualificationsMinimum 3+ years working experience in data science capacity.Minimum Master's degree or equivalent in Statistics, Quantitative Sciences, Data Science, Operations Research or other quantitative fieldsAbility to manipulate, analyze, and interpret large data sourcesDeep understanding of advanced statistical techniques and concepts (e.g. properties of distributions, hypothesis testing, parametric/non-parametric tests, survey design, sampling theory, experimental design, regression/predictive modeling and more)Strong Knowledge of a variety of machine learning techniques (clustering, regression, decision trees and etc) and their real-world advantages/drawbacks.Must have working knowledge in the application of statistical and modeling techniquesProficient in Python (as statistical and ML package tools). Proficient in SQL and working with large-scale databasesComfortable in researching and learning new methods, tools, and techniquesNice to haveExperience in media measurement and digital attributionExperience in online survey methodologiesExperience employing causal inference methodsExperience in Identity graphs and fraud detection methodologiesExperience working with big data technologies (e. g. Spark)Lucid's Hiring CommitmentWe understand that many candidates may not be perfectly qualified for a job posting. Experience comes in different forms; many skills are transferable and passion goes a long way. Even more important than your resume is a clear demonstration of dedication, impact, and the ability to thrive in a dynamic, collaborative environment. We want you to learn new things in this role, and we encourage you to apply if your experience is near the desired qualifications.We also know that diversity of background and thought can enhance problem-solving and encourage more creative thinking, which is why we're dedicated to adding new perspectives to the team.At Lucid we foster a collaborative and inspiring workplace. We pride ourselves in doing this by recruiting, hiring and retaining diverse, passionate, and forward-thinking talent. Lucid is committed to and encourages an inclusive environment and we are dedicated to providing equal employment opportunity regardless of race, color, ancestry, religion, sex, national origin, sexual orientation, age, citizenship, marital status, disability, gender identity or Veteran status. If you have a disability or special need that requires accommodation, please let us know.Show less\", 'skills': b\"Supports research and discovery phase for new and existing products. The primary areas include but are not limited to trend analyses, outlier detection, generalization, harmonization, as well as working with different data sources.|Analyze large and diverse datasets to extract impactful insights that can drive product strategy. Collaborate with cross-functional teams to design, implement, and test new and existing measurement products- develop statistical modeling and methodologies.|End-to-end development and maintenance of Lucid's measurement products.|Ongoing evaluation and validation of both internal and external products to ensure Lucid's success.|Communicate insights and recommendations through visualizations and presentations that will resonate with a wide range of audiences.|Minimum 3+ years working experience in data science capacity.|Minimum Master's degree or equivalent in Statistics, Quantitative Sciences, Data Science, Operations Research or other quantitative fields|Ability to manipulate, analyze, and interpret large data sources|Deep understanding of advanced statistical techniques and concepts (e.g. properties of distributions, hypothesis testing, parametric/non-parametric tests, survey design, sampling theory, experimental design, regression/predictive modeling and more)|Strong Knowledge of a variety of machine learning techniques (clustering, regression, decision trees and etc) and their real-world advantages/drawbacks.|Must have working knowledge in the application of statistical and modeling techniques|Proficient in Python (as statistical and ML package tools). Proficient in SQL and working with large-scale databases|Comfortable in researching and learning new methods, tools, and techniques|Experience in media measurement and digital attribution|Experience in online survey methodologies|Experience employing causal inference methods|Experience in Identity graphs and fraud detection methodologies|Experience working with big data technologies (e. g. Spark)\"}, {'company': 'Niufitel, S.L.', 'title': 'Machine Learning Engineer', 'location': 'Sacramento, CA', 'posted': '2 days ago', 'href': 'https://www.linkedin.com/jobs/view/machine-learning-engineer-at-niufitel-s-l-2877309008?refId=3iMOZlN063Zo4yvEEd6H7w%3D%3D&trackingId=I%2B2q7P1FUIbjSJ71wMDswg%3D%3D&position=9&pageNum=0&trk=public_jobs_jserp-result_search-card', 'description': '', 'skills': ''}, {'company': 'Cognomotiv', 'title': 'Data Scientist', 'location': 'United States', 'posted': '2 days ago', 'href': 'https://www.linkedin.com/jobs/view/data-scientist-at-cognomotiv-2877812139?refId=3iMOZlN063Zo4yvEEd6H7w%3D%3D&trackingId=JnI2DD1CQB38C77r%2B86jMQ%3D%3D&position=10&pageNum=0&trk=public_jobs_jserp-result_search-card', 'description': '', 'skills': ''}, {'company': 'Baylor Genetics', 'title': 'Data Scientist', 'location': 'Houston, TX', 'posted': '3 days ago', 'href': 'https://www.linkedin.com/jobs/view/data-scientist-at-baylor-genetics-2878981627?refId=3iMOZlN063Zo4yvEEd6H7w%3D%3D&trackingId=jBSIgEv0SuK3lOSkvWICKw%3D%3D&position=11&pageNum=0&trk=public_jobs_jserp-result_search-card', 'description': b'DescriptionData ScientistBaylor Genetics is an industry leader in genetics testing looking to bring our technology in line with our scientific excellence. We believe the strength of our network can drive value to all parts of our organization. The company continues to grow rapidly and services major medical centers, individual physicians, and genetic counselors across the entire US. We are at the forefront of genetics testing research and are working to bring our products to many new customers.We believe a strong data intelligence group is fundamental in allowing our business and our users to accomplish what is necessary for us to be successful. To maintain a quality data intelligence team requires a strong technological foundation, with a focus on best practices, allowing for an adaptable, extensible, fault-tolerant architecture that drives value into our organization.This role requires curiosity, attention to detail, technical expertise, and the ability to coordinate and communicate with all levels of technologists and the business. Someone who loves to learn and teach would be ideal for this role.If you feel you want to be part of the challenge of creating a world-class data intelligence organization that drives a cutting-edge business, we are looking for an Artificial Intelligence Engineer to join a growing team that will work in improving the way our organization accomplishes its goals.The team has a strong focus on Delivery & Stability and closely collaborates with all business units to iterate on improving its success metrics.You willCollect data through means such as analyzing business results or by setting up and managing new studiesTransfer data into a new format to make it more appropriate for analysisCreate new, experimental frameworks to collect dataBuild tools to automate data collectionSearch through large data sets for usable informationCreate reports and presentations for business usersCorrelate similar data to find actionable resultsYou might be a good fit for this role if youPerform data profiling and data analysis for any source systems and the target data repositoriesPerform exploratory data analysis, generate and test working hypotheses, prepare and analyze historical data and identify patternsHave experience closely collaborating with development, infrastructure, and management teamsHelp define automated AI/ML pipeline for both training and runtime predictionsKnow how to design, diagram, and present high-level and detailed versions of infrastructure architectureRecognize the importance and be able to generate excellent documentation and diagramsCan balance idealism and pragmatism in a fast-paced work environmentPossess self-management skills with a continuous improvement mindsetPay attention to detail and constant drive to deliver valueEnjoy being part of a highly collaborative team where everyone works together to improve our organization and our own skillsetAre excited to learn new technologies and practices that can drive an organization into the futureIt\\xe2\\x80\\x99s not expected that you have expertise in all these areas. We\\xe2\\x80\\x99re looking for professional engineers, who can quickly learn and adapt as our systems and situation changes, rather than a rigid skillsetBaylor Genetics is an Equal Employment Opportunity employer. Baylor Genetics conducts all employment-related activities without regard to race, religion, color, national origin, age, sex, marital status, sexual orientation, disability, citizenship status, genetics, or status as a Vietnam-era special disabled and another covered veteran status, or any other characteristic protected by law.Show less', 'skills': b'Collect data through means such as analyzing business results or by setting up and managing new studies|Transfer data into a new format to make it more appropriate for analysis|Create new, experimental frameworks to collect data|Build tools to automate data collection|Search through large data sets for usable information|Create reports and presentations for business users|Correlate similar data to find actionable results|Perform data profiling and data analysis for any source systems and the target data repositories|Perform exploratory data analysis, generate and test working hypotheses, prepare and analyze historical data and identify patterns|Have experience closely collaborating with development, infrastructure, and management teams|Help define automated AI/ML pipeline for both training and runtime predictions|Know how to design, diagram, and present high-level and detailed versions of infrastructure architecture|Recognize the importance and be able to generate excellent documentation and diagrams|Can balance idealism and pragmatism in a fast-paced work environment|Possess self-management skills with a continuous improvement mindset|Pay attention to detail and constant drive to deliver value|Enjoy being part of a highly collaborative team where everyone works together to improve our organization and our own skillset|Are excited to learn new technologies and practices that can drive an organization into the future'}, {'company': 'Sardine', 'title': 'Machine Learning Engineer', 'location': 'San Francisco, CA', 'posted': '2 days ago', 'href': 'https://www.linkedin.com/jobs/view/machine-learning-engineer-at-sardine-2879945457?refId=3iMOZlN063Zo4yvEEd6H7w%3D%3D&trackingId=nQPz%2B12vIrhn8cg%2FHHBS9A%3D%3D&position=12&pageNum=0&trk=public_jobs_jserp-result_search-card', 'description': b\"Who We AreSardine develops fraud and compliance infrastructure for crypto and fintech companies. With Sardine, companies can focus on honing their service instead of fortifying their product against fraudsters. Our team built the fraud prevention and compliance infrastructure that scaled both Coinbase and Revolut. Today, we\\xe2\\x80\\x99re growing incredibly fast, and power-leading fintechs around the world, including Brex, Moonpay, Blockfi, Bakkt, Luno, Transak, Chippercash, Candy, and Relayfi.Our CultureWe are based in Bay Area and NYC but have a remote work cultureWe hire talented, self-motivated people and get out of their wayWe value performance, not hours worked (or what time you work). We believe you shouldn't have to miss your family dinner, your kid's school play, or doctor's appointment for the sake of adhering to an arbitrary work schedule.Location:United States or Canada (From Home / Beach / Mountain / Cafe / Anywhere!)We are a remote-first company with a globally distributed team. You can find your productive zone and work from there.You WillDevelop statistical and machine learning models for fraud prevention and other use casesUse data and models to support the development of risk mitigation strategies and interventions while preserving and improving the user experienceEvolve our risk metrics, the datasets to support them, and the measurement of the causal impact of initiatives to improve themBring data-driven thinking to our team and our customersAn Ideal Candidate Has5+ years of data science/quantitative modeling experienceAdvanced Degree in Mathematics, Statistics, Quantitative Finance, Economics, Sciences, Engineering, or Computer ScienceStrong working knowledge of SQL, R, Python, Matlab, C++, or equivalentCreative problem solving, strong critical thinking, and a get things done mentalityExperience in Python and BigQuery/GCP is preferredTechnologies We UseBigtablePostgres / PostgreSQLGCP dataflow (apache beam)BigQueryElasticSearchMetabaseTypeScript (React + node)GolangPythonRubyJavaTerraformBenefits We OfferAttractive compensation, both cash, and equity-based on previous experience and expertise. We want you to share in our upside7-year for post-termination option exercise (vs. standard 90 days)Remote-first CultureFlexible PTOHealth care and 401KWork from home stipendJoin a fast-growing company, with world-class professionals from around the world. If you are seeking a meaningful career, you found the right place, and we would love to hear from you.Show less\", 'skills': b\"We are based in Bay Area and NYC but have a remote work culture|We hire talented, self-motivated people and get out of their way|We value performance, not hours worked (or what time you work). We believe you shouldn't have to miss your family dinner, your kid's school play, or doctor's appointment for the sake of adhering to an arbitrary work schedule.|United States or Canada (From Home / Beach / Mountain / Cafe / Anywhere!)|We are a remote-first company with a globally distributed team. You can find your productive zone and work from there.|Develop statistical and machine learning models for fraud prevention and other use cases|Use data and models to support the development of risk mitigation strategies and interventions while preserving and improving the user experience|Evolve our risk metrics, the datasets to support them, and the measurement of the causal impact of initiatives to improve them|Bring data-driven thinking to our team and our customers|5+ years of data science/quantitative modeling experience|Advanced Degree in Mathematics, Statistics, Quantitative Finance, Economics, Sciences, Engineering, or Computer Science|Strong working knowledge of SQL, R, Python, Matlab, C++, or equivalent|Creative problem solving, strong critical thinking, and a get things done mentality|Experience in Python and BigQuery/GCP is preferred|Bigtable|Postgres / PostgreSQL|GCP dataflow (apache beam)|BigQuery|ElasticSearch|Metabase|TypeScript (React + node)|Golang|Python|Ruby|Java|Terraform|Attractive compensation, both cash, and equity-based on previous experience and expertise. We want you to share in our upside|7-year for post-termination option exercise (vs. standard 90 days)|Remote-first Culture|Flexible PTO|Health care and 401K|Work from home stipend\"}, {'company': 'Coders Data', 'title': 'Data Scientist', 'location': 'New Jersey, United States', 'posted': '2 days ago', 'href': 'https://www.linkedin.com/jobs/view/data-scientist-at-coders-data-2877826733?refId=3iMOZlN063Zo4yvEEd6H7w%3D%3D&trackingId=k1%2B8iU0pBJqRJdB3eN14qw%3D%3D&position=13&pageNum=0&trk=public_jobs_jserp-result_search-card', 'description': b\"The ideal candidate's favourite words are learning, data, scale, and agility. You will leverage your strong collaboration skills and ability to extract valuable insights from highly complex data sets to ask the right questions and find the right answers.  ResponsibilitiesAnalyse raw data: assessing quality, cleansing, structuring for downstream processingDesign accurate and scalable prediction algorithmsCollaborate with engineering team to bring analytical prototypes to productionGenerate actionable insights for business improvementsQualificationsBachelor's degree or equivalent experience in quotative field (Statistics, Mathematics, Computer Science, Engineering, etc.)0 - 2 years' of experience in quantitative analytics or data modellingDeep understanding of predictive modelling, machine-learning, clustering and classification techniques, and algorithmsFluency in a programming language (Python, C,C++, Java, SQL)Familiarity with Big Data frameworks and visualization tools (Cassandra, Hadoop, Spark, Tableau)Show less\", 'skills': b\"Analyse raw data: assessing quality, cleansing, structuring for downstream processing|Design accurate and scalable prediction algorithms|Collaborate with engineering team to bring analytical prototypes to production|Generate actionable insights for business improvements|Bachelor's degree or equivalent experience in quotative field (Statistics, Mathematics, Computer Science, Engineering, etc.)|0 - 2 years' of experience in quantitative analytics or data modelling|Deep understanding of predictive modelling, machine-learning, clustering and classification techniques, and algorithms|Fluency in a programming language (Python, C,C++, Java, SQL)|Familiarity with Big Data frameworks and visualization tools (Cassandra, Hadoop, Spark, Tableau)\"}, {'company': 'Lockheed Martin', 'title': 'Data Science / Machine Learning Engineer / Orlando, FL', 'location': 'Orlando, FL', 'posted': '6 days ago', 'href': 'https://www.linkedin.com/jobs/view/data-science-machine-learning-engineer-orlando-fl-at-lockheed-martin-2881553040?refId=3iMOZlN063Zo4yvEEd6H7w%3D%3D&trackingId=90Sj%2BKZr04XIJ1ArYLb8pw%3D%3D&position=14&pageNum=0&trk=public_jobs_jserp-result_search-card', 'description': b'Lockheed Martin\\xe2\\x80\\x99s Missiles and Fire Control is seeking a Data Science / Machine Learning Engineer for an exciting, Orlando, FL position! You can enjoy working across teams that include other Machine Learning engineers, software engineers, system domain experts, and project managers to understand the fundamentals of our most challenging technical problems and how Machine Learning and Data Analytics may be applied to solve them.In This Position, You WillLead the design of ML models, frameworks, pipelines, data strategies, and program processes that address these problems.Mature products that range from low TRL prototypes up to high TRL models and pipelines at a production quality and scale.Provide leadership and mentorship to junior ML engineers.Help establish the standard processes that will be applied to development and production-ready Machine Learning solutions.Be connected with research in academia, and the broader commercial trends, and help apply those best-of-breed solutions practically to help solve our technical challenges.Show less', 'skills': b'Lead the design of ML models, frameworks, pipelines, data strategies, and program processes that address these problems.|Mature products that range from low TRL prototypes up to high TRL models and pipelines at a production quality and scale.|Provide leadership and mentorship to junior ML engineers.|Help establish the standard processes that will be applied to development and production-ready Machine Learning solutions.|Be connected with research in academia, and the broader commercial trends, and help apply those best-of-breed solutions practically to help solve our technical challenges.'}, {'company': 'Optum', 'title': 'Machine Learning Engineer - Telecommute', 'location': 'Eden Prairie, MN', 'posted': '3 days ago', 'href': 'https://www.linkedin.com/jobs/view/machine-learning-engineer-telecommute-at-optum-2876272858?refId=3iMOZlN063Zo4yvEEd6H7w%3D%3D&trackingId=O1tBDLd7%2BYVyh1ek3nBnqg%3D%3D&position=15&pageNum=0&trk=public_jobs_jserp-result_search-card', 'description': b\"Combine two of the fastest-growing fields on the planet with a culture of performance, collaboration and opportunity and this is what you get. Leading edge technology in an industry that's improving the lives of millions. Here, innovation isn't about another gadget, it's about making health care data available wherever and whenever people need it, safely and reliably. There's no room for error. Join us and start doing your life's best work.(sm)You\\xe2\\x80\\x99ll enjoy the flexibility to telecommute* from anywhere within the U.S. as you take on some tough challenges.Primary ResponsibilitiesThe Machine Learning Engineer will play a key role in researching, designing, implementing and deploying full-stack scalable machine learning solutions to support intelligent operations initiativesDevelop and maintain data science pipelines from data ingest through model deploymentInvestigate, evaluate, onboard, and maintain new data sources for data scientistsEffectively communicate complex technical results to business partnersSupport and drive analytic efforts around machine learning and innovationWork with a great deal of autonomy to find solutions to complex problemsYou\\xe2\\x80\\x99ll be rewarded and recognized for your performance in an environment that will challenge you and give you clear direction on what it takes to succeed in your role as well as provide development for other roles you may be interested in.Required QualificationsBA/BS in Applied Mathematics, Physics, Computer Science, Statistics or related technical field5+ years of experience using advanced data science tools such as R, Python, SQL, Spark/Databricks or another distributed computing framework (Beam, etc)5+ years of experience developing and deploying analytic solutions using AWS/Azure/GCP5+ years of experience wrangling large datasets with big data tools such as Hadoop, Hive and Spark4+ years of hands-on experience in developing analytics with machine learning, deep learning, NLP, and/or other related modeling techniquesExperience with containerization technologies such as Docker and KubernetesExperience with SQL & data streaming technologies (Kafka, RMQ, etc)Experience applying computational algorithms and statistical methods to structured and unstructured dataExperience combining analytic methods with advanced data visualizations using, for example, Tableau, Shiny or D3Experience breaking down and clearly defining problemsExperience communicating highly technical results to a diverse audiencePreferred QualificationExcellent execution mentalityTo protect the health and safety of our workforce, patients and communities we serve, UnitedHealth Group and its affiliate companies now require all employees to disclose COVID-19 vaccination status prior to beginning employment. In addition, some roles require full COVID-19 vaccination as an essential job function. UnitedHealth Group adheres to all federal, state and local COVID-19 vaccination regulations as well as all client COVID-19 vaccination requirements and will obtain the necessary information from candidates prior to employment to ensure compliance. Candidates must be able to perform all essential job functions with or without reasonable accommodation. Failure to meet the vaccination requirement may result in rescission of an employment offer or termination of employment.Technology Careers with Optum. Information and technology have amazing power to transform the health care industry and improve people's lives. This is where it's happening. This is where you'll help solve the problems that have never been solved. We're freeing information so it can be used safely and securely wherever it's needed. We're creating the very best ideas that can most easily be put into action to help our clients improve the quality of care and lower costs for millions. This is where the best and the brightest work together to make positive change a reality. This is the place to do your life's best work.(sm)Colorado, Connecticut or Nevada Residents Only: The salary range for Colorado residents is $82,100 to $146,900. The salary range for Connecticut / Nevada residents is $90,500 to $161,600. Pay is based on several factors including but not limited to education, work experience, certifications, etc. In addition to your salary, UnitedHealth Group offers benefits such as, a comprehensive benefits package, incentive and recognition programs, equity stock purchase and 401k contribution (all benefits are subject to eligibility requirements). No matter where or when you begin a career with UnitedHealth Group, you\\xe2\\x80\\x99ll find a far-reaching choice of benefits and incentives.All Telecommuters will be required to adhere to UnitedHealth Group\\xe2\\x80\\x99s Telecommuter PolicyDiversity creates a healthier atmosphere: UnitedHealth Group is an Equal Employment Opportunity/Affirmative Action employer and all qualified applicants will receive consideration for employment without regard to race, color, religion, sex, age, national origin, protected veteran status, disability status, sexual orientation, gender identity or expression, marital status, genetic information, or any other characteristic protected by law.UnitedHealth Group is a drug-free workplace. Candidates are required to pass a drug test before beginning employment.Job Keywords: Machine Learning Engineer, Data Scientist, Python, Machine Learning, Hadoop, Spark, Kafka, Azure, Telecommute, Telecommuting, Telecommuter, Work From Home, Work At Home, RemoteShow less\", 'skills': b'The Machine Learning Engineer will play a key role in researching, designing, implementing and deploying full-stack scalable machine learning solutions to support intelligent operations initiatives|Develop and maintain data science pipelines from data ingest through model deployment|Investigate, evaluate, onboard, and maintain new data sources for data scientists|Effectively communicate complex technical results to business partners|Support and drive analytic efforts around machine learning and innovation|Work with a great deal of autonomy to find solutions to complex problems|BA/BS in Applied Mathematics, Physics, Computer Science, Statistics or related technical field|5+ years of experience using advanced data science tools such as R, Python, SQL, Spark/Databricks or another distributed computing framework (Beam, etc)|5+ years of experience developing and deploying analytic solutions using AWS/Azure/GCP|5+ years of experience wrangling large datasets with big data tools such as Hadoop, Hive and Spark|4+ years of hands-on experience in developing analytics with machine learning, deep learning, NLP, and/or other related modeling techniques|Experience with containerization technologies such as Docker and Kubernetes|Experience with SQL & data streaming technologies (Kafka, RMQ, etc)|Experience applying computational algorithms and statistical methods to structured and unstructured data|Experience combining analytic methods with advanced data visualizations using, for example, Tableau, Shiny or D3|Experience breaking down and clearly defining problems|Experience communicating highly technical results to a diverse audience|Excellent execution mentality|All Telecommuters will be required to adhere to UnitedHealth Group\\xe2\\x80\\x99s Telecommuter Policy'}, {'company': 'Anomalo', 'title': 'Machine Learning Engineer (Remote - Americas)', 'location': 'San Francisco, CA', 'posted': '2 days ago', 'href': 'https://www.linkedin.com/jobs/view/machine-learning-engineer-remote-americas-at-anomalo-2879962283?refId=3iMOZlN063Zo4yvEEd6H7w%3D%3D&trackingId=61OwcteS1gi7YeRXh7evAw%3D%3D&position=16&pageNum=0&trk=public_jobs_jserp-result_search-card', 'description': '', 'skills': ''}, {'company': 'Recurve', 'title': 'Data Scientist', 'location': 'United States', 'posted': '3 days ago', 'href': 'https://www.linkedin.com/jobs/view/data-scientist-at-recurve-2879126369?refId=3iMOZlN063Zo4yvEEd6H7w%3D%3D&trackingId=8FvZ5PtkzRR5hWbkgnR1zQ%3D%3D&position=17&pageNum=0&trk=public_jobs_jserp-result_search-card', 'description': b'Recurve is looking for a Data Scientist to join the Applied Data Science team and support the meter based analytics projects that help our clients optimize and scale their demand side portfolios. This is a key, hands-on role to conduct meter-based analytics projects for Recurve\\xe2\\x80\\x99s clients, contribute to integrated methods development and codebases, and author reports. The successful candidate will report to the Vice President of Applied Data Science and will also work closely with Recurve\\xe2\\x80\\x99s Engineering team.  At Recurve, we are dedicated to solving clean energy grid challenges to meet climate goals. Our company is building a platform designed to unlock the flow of capital into the performance-based demand-side energy resources including energy efficiency, electrification, and demand response. You will be joining an organization that places a high value on interoperability, transparency, communication, and collaboration, with no black boxes. We are 100% distributed, so we welcome applicants who are self-motivated and who thrive in a remote-working environment. In your day to day you\\xe2\\x80\\x99ll be:Performing custom analytics for clients in support of projectsDevelop custom visualizations to ensure analytics results are delivered in a manner that is understandable and impactfulContribute to reports for clients to summarize projects and provide key findings and recommendations. Work closely with Recurve\\xe2\\x80\\x99s Customer Solutions team to understand and meet the needs of customersWork closely with Recurves\\xe2\\x80\\x99 Customer Success team to meet deadlines and contractual obligationsWork closely with Recurve\\xe2\\x80\\x99s Data Infrastructure team to support standardization of analytics pipelinesContribute to methods development and testing for transparent and revenue-grade measurement of integrated demand flexibility resourcesUnderstand and evaluate the quality of data modelsUse and enhance Recurve\\xe2\\x80\\x99s SaaS platform and develop tools and analytics using Google Bigquery, Looker, Jupyter Notebooks, and other libraries and packages. Understand, debug, and improve implementation of meter-based measurementsWork with external stakeholder groups to refine and vet methodsDevelop, implement, and improve energy usage models and comparison groupsEmbodying Recurve\\xe2\\x80\\x99s Core Values and positively impacting and maintaining company culture We are looking for someone who has:A data science and analytics training and backgroundBachelor\\xe2\\x80\\x99s degree in science or engineering, statistics or related field Strong attention to detail and ability to troubleshoot Intellectual curiosity and the ability to understand and help develop analytical solutions for clientsStrong writing capabilities and presentation skills (we may ask for samples of past work)\\xe2\\x80\\x9cStartup DNA\\xe2\\x80\\x9d and enjoy working in fast-paced environments, jumping in wherever is needed, and helping get things over that finish lineAdditional desired qualifications:Masters or PhD in statistics or related fieldBackground in Energy efficiency, DERs or demand-side energy managementExperience working with utilities or energy regulatorsSQL, Python, Looker, iPython Notebooks, iPython Widgets, Matplotlib, FuncAnimationStrong software background - experience as software engineerRecurve is committed to creating a diverse environment and is proud to be an equal opportunity employer. All qualified applicants will receive consideration for employment without regard to race, color, religion, gender, gender identity or expression, sexual orientation, national origin, genetics, disability, age, or veteran status.Show less', 'skills': b'Performing custom analytics for clients in support of projects|Develop custom visualizations to ensure analytics results are delivered in a manner that is understandable and impactful|Contribute to reports for clients to summarize projects and provide key findings and recommendations.|Work closely with Recurve\\xe2\\x80\\x99s Customer Solutions team to understand and meet the needs of customers|Work closely with Recurves\\xe2\\x80\\x99 Customer Success team to meet deadlines and contractual obligations|Work closely with Recurve\\xe2\\x80\\x99s Data Infrastructure team to support standardization of analytics pipelines|Contribute to methods development and testing for transparent and revenue-grade measurement of integrated demand flexibility resources|Understand and evaluate the quality of data models|Use and enhance Recurve\\xe2\\x80\\x99s SaaS platform and develop tools and analytics using Google Bigquery, Looker, Jupyter Notebooks, and other libraries and packages.|Understand, debug, and improve implementation of meter-based measurements|Work with external stakeholder groups to refine and vet methods|Develop, implement, and improve energy usage models and comparison groups|Embodying Recurve\\xe2\\x80\\x99s Core Values and positively impacting and maintaining company culture|A data science and analytics training and background|Bachelor\\xe2\\x80\\x99s degree in science or engineering, statistics or related field|Strong attention to detail and ability to troubleshoot|Intellectual curiosity and the ability to understand and help develop analytical solutions for clients|Strong writing capabilities and presentation skills (we may ask for samples of past work)|\\xe2\\x80\\x9cStartup DNA\\xe2\\x80\\x9d and enjoy working in fast-paced environments, jumping in wherever is needed, and helping get things over that finish line|Masters or PhD in statistics or related field|Background in Energy efficiency, DERs or demand-side energy management|Experience working with utilities or energy regulators|SQL, Python, Looker, iPython Notebooks, iPython Widgets, Matplotlib, FuncAnimation|Strong software background - experience as software engineer'}, {'company': 'Parafin', 'title': 'Data Scientist', 'location': 'San Francisco, CA', 'posted': '', 'href': 'https://www.linkedin.com/jobs/view/data-scientist-at-parafin-2881547616?refId=3iMOZlN063Zo4yvEEd6H7w%3D%3D&trackingId=o1Dne7vNIY1hXVCh178hhQ%3D%3D&position=18&pageNum=0&trk=public_jobs_jserp-result_search-card', 'description': b\"About Us:At Parafin, our mission is to grow small businesses. Small businesses are the backbone of our economy, yet banks do not have their back. Parafin is a technology company that builds infrastructure which enables small businesses to get easy access to financial services via platforms they sell on.Parafin's first product offers capital-as-a-service for online platforms. Parafin currently powers the capital programs of platforms ranging from Series B to post IPO companies. We are a tight knit team of engineers and designers, coming from organizations such as Robinhood, Affirm, CapitalOne, Uber and CERN, excited both about helping hundreds of thousands of small businesses grow and thrive, and building products that leaders at top companies have started to use every day. We are backed by prominent venture capitalists such as Ribbit Capital, Thrive Capital, Index Ventures, Green Oaks Capital and SV Angel.Data science is central to Parafin's success - we use unique and well-structured data from small businesses to build models that directly generate, at scale, the products we provide to those businesses. Parafin offers data scientists the exciting opportunity to combine high impact technical work with career growth while experiencing the multifaceted learning that abounds at a vibrant, early stage startup.About your roleYou will take unstructured business problems and turn them into data science problems through analysis, metric development, and modeling.You will make efficient, timely use of data to guide product and business decisions.You will define and conduct experiments impacting core product design and pricing decisions.You will define and implement a framework for evaluating the performance of our portfolio of credit products that will enable us to grow to the next level of scale.You will analyze conversion on our product and identify first order product improvements.You will apply machine learning to improve our underwriting and pricing strategy.You will help scale the Parafin team by hiring exceptional talent.About youYou are an effective generalist who partners well with engineering, product, and business functions.You communicate very well with both technical and nontechnical partners.You have a strong grasp of statistics and the fundamentals of machine learning.You care deeply about the quality and correctness of your work.You take initiative and can own and drive large projects independently.You are comfortable managing competing and shifting priorities.You are excited about working on a small team and setting the foundations for data science at Parafin.You have two years of work experience as a data scientist.You are experienced with Python or R.You have a bachelor's degree in statistics, engineering, math, computer science, or a related technical discipline.Preferred but not requiredExperience with credit risk modelingExperience with time seriesExperience with SQLGraduate degreePM21If you require reasonable accommodation in completing this application, interviewing, completing any pre-employment testing, or otherwise participating in the employee selection process, please contact us.Don't see a role that fits your interests? If you're passionate about working at Parafin email us at work@parafin.com and tell us how you'd like to help.Show less\", 'skills': b\"You will take unstructured business problems and turn them into data science problems through analysis, metric development, and modeling.|You will make efficient, timely use of data to guide product and business decisions.|You will define and conduct experiments impacting core product design and pricing decisions.|You will define and implement a framework for evaluating the performance of our portfolio of credit products that will enable us to grow to the next level of scale.|You will analyze conversion on our product and identify first order product improvements.|You will apply machine learning to improve our underwriting and pricing strategy.|You will help scale the Parafin team by hiring exceptional talent.|You are an effective generalist who partners well with engineering, product, and business functions.|You communicate very well with both technical and nontechnical partners.|You have a strong grasp of statistics and the fundamentals of machine learning.|You care deeply about the quality and correctness of your work.|You take initiative and can own and drive large projects independently.|You are comfortable managing competing and shifting priorities.|You are excited about working on a small team and setting the foundations for data science at Parafin.|You have two years of work experience as a data scientist.|You are experienced with Python or R.|You have a bachelor's degree in statistics, engineering, math, computer science, or a related technical discipline.|Experience with credit risk modeling|Experience with time series|Experience with SQL|Graduate degree\"}, {'company': 'NewsBreak', 'title': 'Machine Learning Engineer', 'location': 'Bellevue, WA', 'posted': '4 months ago', 'href': 'https://www.linkedin.com/jobs/view/machine-learning-engineer-at-newsbreak-2767896269?refId=3iMOZlN063Zo4yvEEd6H7w%3D%3D&trackingId=Ht2GTUuOuPAvGcwmnkqfOw%3D%3D&position=19&pageNum=0&trk=public_jobs_jserp-result_search-card', 'description': b\"DescriptionAbout NewsBreakNewsBreak defines a new way for users to engage with local news. Since its founding in 2015, it has grown by leaps and bounds. We\\xe2\\x80\\x99re the nation's largest intelligent local news platform!NewsBreak is ranked the #1 news app on both iOS and Android in 2020 with 45M+ monthly active users.We're a series-C startup headquartered at Mountain View, California.For more information, visit www.newsbreak.com/aboutAbout The RoleResponsibilitiesDevelop highly scalable tools leveraging machine learning models to solve problems such as classification, clustering, topic modeling, natural language processing and recommendationDevelop in-house machine learning tools and pipelines to support fast experimentation of machine learning modelsWork with other engineers to identify and solve machine learning problemsRequirementsMinimum QualificationsExperience in one or more of the following areas: machine learning, data mining, computer vision, and natural language processingExperience with machine learning frameworks such as TensorFlow, PyTorch or MXNetExpert knowledge in C/C++ and PythonPreferred QualificationsMS degree in Computer Science or related quantitative field with 3+ years of machine learning related work or research, or PhD degree in Computer Science or related quantitative fieldIndustry experience with developing and deploying machine learning models in productionContributions to research communities/efforts, including publishing papers in machine learning (AAAI, ICLR, NeurIPS, ICML, KDD, CVPR)BenefitsWe provide a highly competitive compensation package including base salary, bonuses, and stock options. Benefits include great Medical, Dental and Vision. A flat organization and family-like culture makes this a perfect environment to make huge impact on our product and grow your skill set.Show less\", 'skills': b'Develop highly scalable tools leveraging machine learning models to solve problems such as classification, clustering, topic modeling, natural language processing and recommendation|Develop in-house machine learning tools and pipelines to support fast experimentation of machine learning models|Work with other engineers to identify and solve machine learning problems|Experience in one or more of the following areas: machine learning, data mining, computer vision, and natural language processing|Experience with machine learning frameworks such as TensorFlow, PyTorch or MXNet|Expert knowledge in C/C++ and Python|MS degree in Computer Science or related quantitative field with 3+ years of machine learning related work or research, or PhD degree in Computer Science or related quantitative field|Industry experience with developing and deploying machine learning models in production|Contributions to research communities/efforts, including publishing papers in machine learning (AAAI, ICLR, NeurIPS, ICML, KDD, CVPR)'}, {'company': 'Snorkel AI', 'title': 'Machine Learning Engineer', 'location': 'Palo Alto, CA', 'posted': '4 weeks ago', 'href': 'https://www.linkedin.com/jobs/view/machine-learning-engineer-at-snorkel-ai-2876211799?refId=3iMOZlN063Zo4yvEEd6H7w%3D%3D&trackingId=IrOSOYvsQTQvh%2BdHBNpwxA%3D%3D&position=20&pageNum=0&trk=public_jobs_jserp-result_search-card', 'description': '', 'skills': ''}, {'company': 'Zachary Piper Solutions', 'title': 'Remote Data Scientist', 'location': 'United States', 'posted': '', 'href': 'https://www.linkedin.com/jobs/view/remote-data-scientist-at-zachary-piper-solutions-2876772998?refId=3iMOZlN063Zo4yvEEd6H7w%3D%3D&trackingId=ZQaWybG55y80YbP1T2PA%2FA%3D%3D&position=21&pageNum=0&trk=public_jobs_jserp-result_search-card'}, {'company': 'Proton', 'title': 'Machine Learning Engineer', 'location': 'Boston, MA', 'posted': '2 weeks ago', 'href': 'https://www.linkedin.com/jobs/view/machine-learning-engineer-at-proton-2866047306?refId=3iMOZlN063Zo4yvEEd6H7w%3D%3D&trackingId=IAuyY%2BgJpqJwlVyrZUXVTA%3D%3D&position=22&pageNum=0&trk=public_jobs_jserp-result_search-card'}, {'company': 'Vroom', 'title': 'Machine Learning Engineer (Remote)', 'location': 'United States', 'posted': '3 days ago', 'href': 'https://www.linkedin.com/jobs/view/machine-learning-engineer-remote-at-vroom-2787203128?refId=3iMOZlN063Zo4yvEEd6H7w%3D%3D&trackingId=Ey2cx4Q2a%2BUC96JILBR%2BjA%3D%3D&position=23&pageNum=0&trk=public_jobs_jserp-result_search-card'}, {'company': 'Trusaic', 'title': 'Data Scientist', 'location': 'Los Angeles, CA', 'posted': '6 days ago', 'href': 'https://www.linkedin.com/jobs/view/data-scientist-at-trusaic-2871497600?refId=3iMOZlN063Zo4yvEEd6H7w%3D%3D&trackingId=JE9k9iFPzPjMvRlyQTZlKA%3D%3D&position=24&pageNum=0&trk=public_jobs_jserp-result_search-card'}, {'company': 'Iterate Labs', 'title': 'Data Scientist', 'location': 'United States', 'posted': '3 days ago', 'href': 'https://www.linkedin.com/jobs/view/data-scientist-at-iterate-labs-2878417814?refId=3iMOZlN063Zo4yvEEd6H7w%3D%3D&trackingId=J2rqr36DrK4P10KPGUK9hg%3D%3D&position=25&pageNum=0&trk=public_jobs_jserp-result_search-card'}, {'company': 'CVS Health', 'title': 'Machine Learning Engineer', 'location': 'Wellesley, MA', 'posted': '2 months ago', 'href': 'https://www.linkedin.com/jobs/view/machine-learning-engineer-at-cvs-health-2844220926?refId=m%2FoDOsvdkk2wIRr1MQcg%2FQ%3D%3D&trackingId=wROQVS8lNvPab2mah3ja%2BA%3D%3D&position=1&pageNum=1&trk=public_jobs_jserp-result_search-card'}, {'company': 'Numbrs Bitcoin Account', 'title': 'Machine Learning Engineer - Remote', 'location': 'United States', 'posted': '4 weeks ago', 'href': 'https://www.linkedin.com/jobs/view/machine-learning-engineer-remote-at-numbrs-bitcoin-account-2874188841?refId=m%2FoDOsvdkk2wIRr1MQcg%2FQ%3D%3D&trackingId=oGoV3w21a25box7scK6dCw%3D%3D&position=2&pageNum=1&trk=public_jobs_jserp-result_search-card'}, {'company': 'Enterprise Minds, Inc', 'title': 'Python Software Engineer', 'location': 'San Jose, CA', 'posted': '', 'href': 'https://www.linkedin.com/jobs/view/python-software-engineer-at-enterprise-minds-inc-2881257260?refId=m%2FoDOsvdkk2wIRr1MQcg%2FQ%3D%3D&trackingId=2I5%2F1mfgMjPji3pYCK7J7w%3D%3D&position=3&pageNum=1&trk=public_jobs_jserp-result_search-card'}, {'company': 'T-Mobile', 'title': 'Data Scientist', 'location': 'Bellevue, WA', 'posted': '5 days ago', 'href': 'https://www.linkedin.com/jobs/view/data-scientist-at-t-mobile-2879295004?refId=m%2FoDOsvdkk2wIRr1MQcg%2FQ%3D%3D&trackingId=zmzkYRb3heGWNpcQalYJ%2FQ%3D%3D&position=4&pageNum=1&trk=public_jobs_jserp-result_search-card'}, {'company': 'Elementary', 'title': 'Machine Learning Engineer', 'location': 'Los Angeles, CA', 'posted': '4 weeks ago', 'href': 'https://www.linkedin.com/jobs/view/machine-learning-engineer-at-elementary-2879294805?refId=m%2FoDOsvdkk2wIRr1MQcg%2FQ%3D%3D&trackingId=1PtkCYoyA%2F%2Ba8YciEbGZFQ%3D%3D&position=5&pageNum=1&trk=public_jobs_jserp-result_search-card'}, {'company': 'GMGraphic Sales', 'title': 'Machine Learning Engineer', 'location': 'Sacramento, CA', 'posted': '5 days ago', 'href': 'https://www.linkedin.com/jobs/view/machine-learning-engineer-at-gmgraphic-sales-2873592424?refId=m%2FoDOsvdkk2wIRr1MQcg%2FQ%3D%3D&trackingId=FH8Ru%2B6qtBWI52BT0t4q6w%3D%3D&position=6&pageNum=1&trk=public_jobs_jserp-result_search-card'}, {'company': 'Disability Solutions', 'title': 'Machine Learning Engineer', 'location': 'Duluth, GA', 'posted': '3 weeks ago', 'href': 'https://www.linkedin.com/jobs/view/machine-learning-engineer-at-disability-solutions-2876360599?refId=m%2FoDOsvdkk2wIRr1MQcg%2FQ%3D%3D&trackingId=e%2FPKfEeWhH4nAf5PiXSLeA%3D%3D&position=7&pageNum=1&trk=public_jobs_jserp-result_search-card'}, {'company': 'Capital One', 'title': 'Data Scientist', 'location': 'McLean, VA', 'posted': '', 'href': 'https://www.linkedin.com/jobs/view/data-scientist-at-capital-one-2735464460?refId=m%2FoDOsvdkk2wIRr1MQcg%2FQ%3D%3D&trackingId=HEMJYGTW5tXchA1P%2BnAj9w%3D%3D&position=8&pageNum=1&trk=public_jobs_jserp-result_search-card'}, {'company': 'Moveworks', 'title': 'Machine Learning Engineer', 'location': 'Mountain View, CA', 'posted': '1 day ago', 'href': 'https://www.linkedin.com/jobs/view/machine-learning-engineer-at-moveworks-2733606272?refId=m%2FoDOsvdkk2wIRr1MQcg%2FQ%3D%3D&trackingId=ZthQKlH%2FCSeuA0ElUvbQYg%3D%3D&position=9&pageNum=1&trk=public_jobs_jserp-result_search-card'}, {'company': 'Kesar Web', 'title': 'Data Scientist', 'location': 'Austin, TX', 'posted': '4 days ago', 'href': 'https://www.linkedin.com/jobs/view/data-scientist-at-kesar-web-2870715377?refId=m%2FoDOsvdkk2wIRr1MQcg%2FQ%3D%3D&trackingId=gN8uHwvEoYf%2FjT5%2BjRrVlg%3D%3D&position=10&pageNum=1&trk=public_jobs_jserp-result_search-card'}, {'company': 'Worldcoin', 'title': 'Machine Learning Engineer', 'location': 'San Francisco County, CA', 'posted': '1 day ago', 'href': 'https://www.linkedin.com/jobs/view/machine-learning-engineer-at-worldcoin-2880826952?refId=m%2FoDOsvdkk2wIRr1MQcg%2FQ%3D%3D&trackingId=BR%2F6Cc6w4Iw1ffafzU8U0Q%3D%3D&position=11&pageNum=1&trk=public_jobs_jserp-result_search-card'}, {'company': 'Stitch Fix', 'title': 'Machine Learning Engineer', 'location': 'United States', 'posted': '1 week ago', 'href': 'https://www.linkedin.com/jobs/view/machine-learning-engineer-at-stitch-fix-2807488319?refId=m%2FoDOsvdkk2wIRr1MQcg%2FQ%3D%3D&trackingId=qVVTPaQlRACFY2qY5lwsjw%3D%3D&position=12&pageNum=1&trk=public_jobs_jserp-result_search-card'}, {'company': 'Zachary Piper Solutions', 'title': 'Data Scientist Engineer', 'location': 'Arlington, VA', 'posted': '', 'href': 'https://www.linkedin.com/jobs/view/data-scientist-engineer-at-zachary-piper-solutions-2876779049?refId=m%2FoDOsvdkk2wIRr1MQcg%2FQ%3D%3D&trackingId=RLqk2E0M3PqKpGXW4O95%2Bw%3D%3D&position=13&pageNum=1&trk=public_jobs_jserp-result_search-card'}, {'company': 'Embark Trucks', 'title': 'Machine Learning Research Engineer', 'location': 'San Francisco, CA', 'posted': '2 days ago', 'href': 'https://www.linkedin.com/jobs/view/machine-learning-research-engineer-at-embark-trucks-2879668996?refId=m%2FoDOsvdkk2wIRr1MQcg%2FQ%3D%3D&trackingId=RF7t889zNLD3LB4Sb50c4Q%3D%3D&position=14&pageNum=1&trk=public_jobs_jserp-result_search-card'}, {'company': 'Actalent', 'title': 'Data Scientist', 'location': 'Cary, NC', 'posted': '', 'href': 'https://www.linkedin.com/jobs/view/data-scientist-at-actalent-2881576891?refId=m%2FoDOsvdkk2wIRr1MQcg%2FQ%3D%3D&trackingId=dyJZ29r7DlTKDKcHkVx89Q%3D%3D&position=15&pageNum=1&trk=public_jobs_jserp-result_search-card'}, {'company': 'NewsBreak', 'title': 'Machine Learning Engineer, NLP', 'location': 'Mountain View, CA', 'posted': '2 months ago', 'href': 'https://www.linkedin.com/jobs/view/machine-learning-engineer-nlp-at-newsbreak-2845420082?refId=m%2FoDOsvdkk2wIRr1MQcg%2FQ%3D%3D&trackingId=CN4kMd%2BmRotzuXwVRgveUw%3D%3D&position=16&pageNum=1&trk=public_jobs_jserp-result_search-card'}, {'company': 'Redfin', 'title': 'Machine Learning Engineer II - Applied Machine Learning', 'location': 'Seattle, WA', 'posted': '2 months ago', 'href': 'https://www.linkedin.com/jobs/view/machine-learning-engineer-ii-applied-machine-learning-at-redfin-2793807296?refId=m%2FoDOsvdkk2wIRr1MQcg%2FQ%3D%3D&trackingId=pfODuyC%2BS3P%2FVc8kpcJkCA%3D%3D&position=17&pageNum=1&trk=public_jobs_jserp-result_search-card'}, {'company': 'Invitae', 'title': 'Data Scientist / Machine Learning Engineer (NLP)', 'location': 'Boston, MA', 'posted': '', 'href': 'https://www.linkedin.com/jobs/view/data-scientist-machine-learning-engineer-nlp-at-invitae-2770080764?refId=m%2FoDOsvdkk2wIRr1MQcg%2FQ%3D%3D&trackingId=bMBEbE%2B9VmOTrFj3cWM%2B4g%3D%3D&position=18&pageNum=1&trk=public_jobs_jserp-result_search-card'}, {'company': 'Invitae', 'title': 'Data Scientist / Machine Learning Engineer (NLP)', 'location': 'San Diego, CA', 'posted': '', 'href': 'https://www.linkedin.com/jobs/view/data-scientist-machine-learning-engineer-nlp-at-invitae-2770085131?refId=m%2FoDOsvdkk2wIRr1MQcg%2FQ%3D%3D&trackingId=ZmnO59BNKTthZ6bV2vvIuw%3D%3D&position=19&pageNum=1&trk=public_jobs_jserp-result_search-card'}, {'company': 'Earable', 'title': 'Machine Learning Engineer', 'location': 'Boulder, CO', 'posted': '1 week ago', 'href': 'https://www.linkedin.com/jobs/view/machine-learning-engineer-at-earable-2870624215?refId=m%2FoDOsvdkk2wIRr1MQcg%2FQ%3D%3D&trackingId=aty3aHzpNKxGfAoTGxQFfQ%3D%3D&position=20&pageNum=1&trk=public_jobs_jserp-result_search-card'}, {'company': 'Intel Corporation', 'title': 'Data Scientist', 'location': 'Santa Clara, CA', 'posted': '2 days ago', 'href': 'https://www.linkedin.com/jobs/view/data-scientist-at-intel-corporation-2877119042?refId=m%2FoDOsvdkk2wIRr1MQcg%2FQ%3D%3D&trackingId=CSlBO6UngArOUfZQ06jisw%3D%3D&position=21&pageNum=1&trk=public_jobs_jserp-result_search-card'}, {'company': 'Outpace Bio', 'title': 'Data Scientist', 'location': 'Seattle, WA', 'posted': '1 day ago', 'href': 'https://www.linkedin.com/jobs/view/data-scientist-at-outpace-bio-2878882397?refId=m%2FoDOsvdkk2wIRr1MQcg%2FQ%3D%3D&trackingId=g%2Fy7SdBFIIG0YsDtrKpW2A%3D%3D&position=22&pageNum=1&trk=public_jobs_jserp-result_search-card'}, {'company': 'Foursquare', 'title': 'Data Scientist', 'location': 'Los Angeles, CA', 'posted': '1 day ago', 'href': 'https://www.linkedin.com/jobs/view/data-scientist-at-foursquare-2790623027?refId=m%2FoDOsvdkk2wIRr1MQcg%2FQ%3D%3D&trackingId=g6Uo4496KSaLLSXyOhMF8A%3D%3D&position=23&pageNum=1&trk=public_jobs_jserp-result_search-card'}, {'company': 'Mage', 'title': 'Machine Learning Engineer', 'location': 'Santa Clara County, CA', 'posted': '3 months ago', 'href': 'https://www.linkedin.com/jobs/view/machine-learning-engineer-at-mage-2744697611?refId=m%2FoDOsvdkk2wIRr1MQcg%2FQ%3D%3D&trackingId=cuEZ9j%2FgDqrjcMDb9MnvTw%3D%3D&position=24&pageNum=1&trk=public_jobs_jserp-result_search-card'}, {'company': 'Belcan', 'title': 'Machine Learning engineer', 'location': 'Mountain View, CA', 'posted': '3 days ago', 'href': 'https://www.linkedin.com/jobs/view/machine-learning-engineer-at-belcan-2875162300?refId=m%2FoDOsvdkk2wIRr1MQcg%2FQ%3D%3D&trackingId=Zh9oX7whT58S8k3fmacQhQ%3D%3D&position=25&pageNum=1&trk=public_jobs_jserp-result_search-card'}, {'company': 'Intellimize', 'title': 'Back-end / Machine Learning Engineer', 'location': 'San Mateo, CA', 'posted': '4 weeks ago', 'href': 'https://www.linkedin.com/jobs/view/back-end-machine-learning-engineer-at-intellimize-2876211877?refId=2%2FYXF52H%2FiPdm2HQxdHzcw%3D%3D&trackingId=KgPehtmPK%2BB6%2BIco6XooAQ%3D%3D&position=1&pageNum=2&trk=public_jobs_jserp-result_search-card'}, {'company': 'Foursquare', 'title': 'Data Scientist', 'location': 'Seattle, WA', 'posted': '1 day ago', 'href': 'https://www.linkedin.com/jobs/view/data-scientist-at-foursquare-2790622099?refId=2%2FYXF52H%2FiPdm2HQxdHzcw%3D%3D&trackingId=wsLPKw1XlJ9wDMoE3fFCbw%3D%3D&position=2&pageNum=2&trk=public_jobs_jserp-result_search-card'}, {'company': 'The Home Depot', 'title': 'Associate Data Scientist', 'location': 'Atlanta, GA', 'posted': '5 days ago', 'href': 'https://www.linkedin.com/jobs/view/associate-data-scientist-at-the-home-depot-2876700646?refId=2%2FYXF52H%2FiPdm2HQxdHzcw%3D%3D&trackingId=3MFmQAgTpxGuKgwPlqvl%2Fg%3D%3D&position=3&pageNum=2&trk=public_jobs_jserp-result_search-card'}, {'company': 'Terray Therapeutics', 'title': 'Machine Learning Engineer', 'location': 'Pasadena, CA', 'posted': '4 weeks ago', 'href': 'https://www.linkedin.com/jobs/view/machine-learning-engineer-at-terray-therapeutics-2876213991?refId=2%2FYXF52H%2FiPdm2HQxdHzcw%3D%3D&trackingId=YTWjypHr6WWmCnfPYWi68Q%3D%3D&position=4&pageNum=2&trk=public_jobs_jserp-result_search-card'}, {'company': 'Invitae', 'title': 'Data Scientist / Machine Learning Engineer (NLP)', 'location': 'Irvine, CA', 'posted': '', 'href': 'https://www.linkedin.com/jobs/view/data-scientist-machine-learning-engineer-nlp-at-invitae-2770080768?refId=2%2FYXF52H%2FiPdm2HQxdHzcw%3D%3D&trackingId=4SJTye0KIcXqwwC0%2FmwRng%3D%3D&position=5&pageNum=2&trk=public_jobs_jserp-result_search-card'}, {'company': 'Worldcoin', 'title': 'Machine Learning Engineer, Data Quality', 'location': 'San Francisco County, CA', 'posted': '2 days ago', 'href': 'https://www.linkedin.com/jobs/view/machine-learning-engineer-data-quality-at-worldcoin-2879386821?refId=2%2FYXF52H%2FiPdm2HQxdHzcw%3D%3D&trackingId=xyYqzyQbQbq%2BLfKgH%2BSTiQ%3D%3D&position=6&pageNum=2&trk=public_jobs_jserp-result_search-card'}, {'company': 'MLPro', 'title': 'Machine Learning and Data Science Engineer Position', 'location': 'San Francisco, CA', 'posted': '2 weeks ago', 'href': 'https://www.linkedin.com/jobs/view/machine-learning-and-data-science-engineer-position-at-mlpro-2866042995?refId=2%2FYXF52H%2FiPdm2HQxdHzcw%3D%3D&trackingId=3qLuEOvooox%2BiwzhWhhIgw%3D%3D&position=7&pageNum=2&trk=public_jobs_jserp-result_search-card'}, {'company': 'Visual Concepts', 'title': 'Machine Learning Engineer', 'location': 'Novato, CA', 'posted': '2 days ago', 'href': 'https://www.linkedin.com/jobs/view/machine-learning-engineer-at-visual-concepts-2767524603?refId=2%2FYXF52H%2FiPdm2HQxdHzcw%3D%3D&trackingId=zGBEpCo27iALlvJ4nAbT5A%3D%3D&position=8&pageNum=2&trk=public_jobs_jserp-result_search-card'}, {'company': 'Stitch Fix', 'title': 'Machine Learning Engineer', 'location': 'San Francisco, CA', 'posted': '1 week ago', 'href': 'https://www.linkedin.com/jobs/view/machine-learning-engineer-at-stitch-fix-2807492119?refId=2%2FYXF52H%2FiPdm2HQxdHzcw%3D%3D&trackingId=EX63aSLQiJj4yUHmEeOOqA%3D%3D&position=9&pageNum=2&trk=public_jobs_jserp-result_search-card'}, {'company': 'Heartdub', 'title': 'Entry Level Software Engineer', 'location': 'Bellevue, WA', 'posted': '2 days ago', 'href': 'https://www.linkedin.com/jobs/view/entry-level-software-engineer-at-heartdub-2879981388?refId=2%2FYXF52H%2FiPdm2HQxdHzcw%3D%3D&trackingId=dOfv2x43xRun8Zhdgjxh9w%3D%3D&position=10&pageNum=2&trk=public_jobs_jserp-result_search-card'}, {'company': 'GoGuardian', 'title': 'Data Scientist I (Remote)', 'location': 'El Segundo, CA', 'posted': '3 days ago', 'href': 'https://www.linkedin.com/jobs/view/data-scientist-i-remote-at-goguardian-2876658296?refId=2%2FYXF52H%2FiPdm2HQxdHzcw%3D%3D&trackingId=zXsXNzf1wOtVH43QRjwB3A%3D%3D&position=11&pageNum=2&trk=public_jobs_jserp-result_search-card'}, {'company': 'Figma', 'title': 'Data Scientist - Product', 'location': 'San Francisco, CA', 'posted': '4 days ago', 'href': 'https://www.linkedin.com/jobs/view/data-scientist-product-at-figma-2877819644?refId=2%2FYXF52H%2FiPdm2HQxdHzcw%3D%3D&trackingId=8WPmeGG68HE3ARQj5SlkZQ%3D%3D&position=12&pageNum=2&trk=public_jobs_jserp-result_search-card'}, {'company': 'Invitae', 'title': 'Data Scientist / Machine Learning Engineer (NLP)', 'location': 'Seattle, WA', 'posted': '', 'href': 'https://www.linkedin.com/jobs/view/data-scientist-machine-learning-engineer-nlp-at-invitae-2770082517?refId=2%2FYXF52H%2FiPdm2HQxdHzcw%3D%3D&trackingId=MpA%2FIoAErPiWOMlg8L%2BlIg%3D%3D&position=13&pageNum=2&trk=public_jobs_jserp-result_search-card'}, {'company': 'STR', 'title': 'Machine Learning Engineer - Data Science', 'location': 'Woburn, MA', 'posted': '1 month ago', 'href': 'https://www.linkedin.com/jobs/view/machine-learning-engineer-data-science-at-str-2828399391?refId=2%2FYXF52H%2FiPdm2HQxdHzcw%3D%3D&trackingId=LIvJkRBlXAiqwDS6M0vmgg%3D%3D&position=14&pageNum=2&trk=public_jobs_jserp-result_search-card'}, {'company': 'Embark Trucks', 'title': 'Machine Learning Engineer', 'location': 'San Francisco, CA', 'posted': '2 days ago', 'href': 'https://www.linkedin.com/jobs/view/machine-learning-engineer-at-embark-trucks-2879674074?refId=2%2FYXF52H%2FiPdm2HQxdHzcw%3D%3D&trackingId=gvLy6ryeo4H4GVA71QxXWg%3D%3D&position=15&pageNum=2&trk=public_jobs_jserp-result_search-card'}, {'company': 'Cohere Health', 'title': 'Data Scientist', 'location': 'United States', 'posted': '3 days ago', 'href': 'https://www.linkedin.com/jobs/view/data-scientist-at-cohere-health-2879153090?refId=2%2FYXF52H%2FiPdm2HQxdHzcw%3D%3D&trackingId=NIy5NQoOq2wphou3Z01TOA%3D%3D&position=16&pageNum=2&trk=public_jobs_jserp-result_search-card'}, {'company': 'Walmart', 'title': 'Data Scientist', 'location': 'Bentonville, AR', 'posted': '3 weeks ago', 'href': 'https://www.linkedin.com/jobs/view/data-scientist-at-walmart-2855375318?refId=2%2FYXF52H%2FiPdm2HQxdHzcw%3D%3D&trackingId=FxB80gHArE2j2174cn0yfg%3D%3D&position=17&pageNum=2&trk=public_jobs_jserp-result_search-card'}, {'company': 'Walmart', 'title': 'Data Scientist', 'location': 'Bentonville, AR', 'posted': '2 weeks ago', 'href': 'https://www.linkedin.com/jobs/view/data-scientist-at-walmart-2775906349?refId=2%2FYXF52H%2FiPdm2HQxdHzcw%3D%3D&trackingId=FpZ8Wn9do3mirJWG%2FL6V8A%3D%3D&position=18&pageNum=2&trk=public_jobs_jserp-result_search-card'}, {'company': 'Descript', 'title': 'Software Engineer - Machine Learning & AI', 'location': 'San Francisco, CA', 'posted': '4 weeks ago', 'href': 'https://www.linkedin.com/jobs/view/software-engineer-machine-learning-ai-at-descript-2876218536?refId=2%2FYXF52H%2FiPdm2HQxdHzcw%3D%3D&trackingId=l5V0oRn%2BPRZ%2Fjuz7paIMxA%3D%3D&position=19&pageNum=2&trk=public_jobs_jserp-result_search-card'}, {'company': 'Intel Corporation', 'title': 'Data Scientist (SK)', 'location': 'Folsom, CA', 'posted': '3 days ago', 'href': 'https://www.linkedin.com/jobs/view/data-scientist-sk-at-intel-corporation-2875478242?refId=2%2FYXF52H%2FiPdm2HQxdHzcw%3D%3D&trackingId=kPmobaWPqTX%2BEDmD5Z14hA%3D%3D&position=20&pageNum=2&trk=public_jobs_jserp-result_search-card'}, {'company': 'FINESSE', 'title': 'Machine Learning Engineer', 'location': 'Los Angeles, CA', 'posted': '1 month ago', 'href': 'https://www.linkedin.com/jobs/view/machine-learning-engineer-at-finesse-2825608840?refId=2%2FYXF52H%2FiPdm2HQxdHzcw%3D%3D&trackingId=I50Wen6ZFkFCpHypaUP3mw%3D%3D&position=21&pageNum=2&trk=public_jobs_jserp-result_search-card'}, {'company': 'Atomwise', 'title': 'Software Engineer, Computational Chemistry', 'location': 'San Francisco, CA', 'posted': '2 days ago', 'href': 'https://www.linkedin.com/jobs/view/software-engineer-computational-chemistry-at-atomwise-2878134203?refId=2%2FYXF52H%2FiPdm2HQxdHzcw%3D%3D&trackingId=PQ59Rsud0hyS%2F85qvJl93w%3D%3D&position=22&pageNum=2&trk=public_jobs_jserp-result_search-card'}, {'company': 'Compass', 'title': 'Software Engineer - AI', 'location': 'New York, NY', 'posted': '', 'href': 'https://www.linkedin.com/jobs/view/software-engineer-ai-at-compass-2764658485?refId=2%2FYXF52H%2FiPdm2HQxdHzcw%3D%3D&trackingId=wLDY45odFbMRCUbvlyTd0Q%3D%3D&position=23&pageNum=2&trk=public_jobs_jserp-result_search-card'}, {'company': 'Baker McKenzie', 'title': 'Data Scientist', 'location': 'Greater Syracuse-Auburn Area', 'posted': '5 days ago', 'href': 'https://www.linkedin.com/jobs/view/data-scientist-at-baker-mckenzie-2878848049?refId=2%2FYXF52H%2FiPdm2HQxdHzcw%3D%3D&trackingId=utvpSAEhe3vOgqbioUkEpQ%3D%3D&position=24&pageNum=2&trk=public_jobs_jserp-result_search-card'}, {'company': 'Lockheed Martin', 'title': 'A/AI Machine Learning Engineer Asc', 'location': 'Shelton, CT', 'posted': '4 weeks ago', 'href': 'https://www.linkedin.com/jobs/view/a-ai-machine-learning-engineer-asc-at-lockheed-martin-2878966518?refId=2%2FYXF52H%2FiPdm2HQxdHzcw%3D%3D&trackingId=puTezDKKD9IyPj3TydSo2w%3D%3D&position=25&pageNum=2&trk=public_jobs_jserp-result_search-card'}, {'company': 'Avala AI', 'title': 'Machine Learning Engineer', 'location': 'San Francisco, CA', 'posted': '2 weeks ago', 'href': 'https://www.linkedin.com/jobs/view/machine-learning-engineer-at-avala-ai-2866046744?refId=myna4ETpoZhBsrwmVZZsEA%3D%3D&trackingId=WdAvv7XBU8mFn9WEza8ECA%3D%3D&position=1&pageNum=3&trk=public_jobs_jserp-result_search-card'}, {'company': 'MLPro', 'title': 'Machine Learning and Data Science Engineer', 'location': 'San Francisco, CA', 'posted': '2 weeks ago', 'href': 'https://www.linkedin.com/jobs/view/machine-learning-and-data-science-engineer-at-mlpro-2866048068?refId=myna4ETpoZhBsrwmVZZsEA%3D%3D&trackingId=b7c3q6JLPSBmXDfEy%2FjLUA%3D%3D&position=2&pageNum=3&trk=public_jobs_jserp-result_search-card'}, {'company': 'OSARO', 'title': 'Machine Learning Engineer', 'location': 'San Francisco, CA', 'posted': '3 months ago', 'href': 'https://www.linkedin.com/jobs/view/machine-learning-engineer-at-osaro-2803868720?refId=myna4ETpoZhBsrwmVZZsEA%3D%3D&trackingId=gOiLWZKpIOFuBLljX%2B%2F2dw%3D%3D&position=3&pageNum=3&trk=public_jobs_jserp-result_search-card'}, {'company': 'Stitch Fix', 'title': 'Data Scientist - Experimentation', 'location': 'United States', 'posted': '5 days ago', 'href': 'https://www.linkedin.com/jobs/view/data-scientist-experimentation-at-stitch-fix-2873485055?refId=myna4ETpoZhBsrwmVZZsEA%3D%3D&trackingId=wjhN3M8QO9t%2FlNxoS6Lz1w%3D%3D&position=4&pageNum=3&trk=public_jobs_jserp-result_search-card'}, {'company': 'Overstock.com', 'title': 'Machine Learning Engineer', 'location': 'United States', 'posted': '2 days ago', 'href': 'https://www.linkedin.com/jobs/view/machine-learning-engineer-at-overstock-com-2800139202?refId=myna4ETpoZhBsrwmVZZsEA%3D%3D&trackingId=6I%2B3neCrYnwxwvXliqOsQg%3D%3D&position=5&pageNum=3&trk=public_jobs_jserp-result_search-card'}, {'company': 'SugarCRM', 'title': 'Machine Learning Engineer', 'location': 'United States', 'posted': '2 days ago', 'href': 'https://www.linkedin.com/jobs/view/machine-learning-engineer-at-sugarcrm-2768263321?refId=myna4ETpoZhBsrwmVZZsEA%3D%3D&trackingId=ygagpaadHozJh2zfCQE04w%3D%3D&position=6&pageNum=3&trk=public_jobs_jserp-result_search-card'}, {'company': 'Rokt', 'title': 'Data Scientist', 'location': 'New York, NY', 'posted': '2 days ago', 'href': 'https://www.linkedin.com/jobs/view/data-scientist-at-rokt-2848361502?refId=myna4ETpoZhBsrwmVZZsEA%3D%3D&trackingId=%2BNfCol9iwqyk5EBQhcUe0w%3D%3D&position=7&pageNum=3&trk=public_jobs_jserp-result_search-card'}, {'company': 'Nuro', 'title': 'Software Engineer, Autonomy Insights', 'location': 'Mountain View, CA', 'posted': '', 'href': 'https://www.linkedin.com/jobs/view/software-engineer-autonomy-insights-at-nuro-2790800870?refId=myna4ETpoZhBsrwmVZZsEA%3D%3D&trackingId=zL4JbdiWQZb1K8dhQuD%2FVg%3D%3D&position=8&pageNum=3&trk=public_jobs_jserp-result_search-card'}, {'company': 'Jackson Health System', 'title': 'Machine Learning Engineer', 'location': 'Miami, FL', 'posted': '3 months ago', 'href': 'https://www.linkedin.com/jobs/view/machine-learning-engineer-at-jackson-health-system-2809207323?refId=myna4ETpoZhBsrwmVZZsEA%3D%3D&trackingId=MssF1%2FLzMndvF8PO7e3evw%3D%3D&position=9&pageNum=3&trk=public_jobs_jserp-result_search-card'}, {'company': 'Tesla', 'title': 'Software Engineer, Autopilot Simulation', 'location': 'Palo Alto, CA', 'posted': '2 months ago', 'href': 'https://www.linkedin.com/jobs/view/software-engineer-autopilot-simulation-at-tesla-2786160757?refId=myna4ETpoZhBsrwmVZZsEA%3D%3D&trackingId=SpPIHwhGLSBpIVhDSQHU%2BA%3D%3D&position=10&pageNum=3&trk=public_jobs_jserp-result_search-card'}, {'company': 'Motorola Solutions', 'title': 'Machine Learning Engineer', 'location': 'Schaumburg, IL', 'posted': '2 days ago', 'href': 'https://www.linkedin.com/jobs/view/machine-learning-engineer-at-motorola-solutions-2880325591?refId=myna4ETpoZhBsrwmVZZsEA%3D%3D&trackingId=Sa7ujP3f9dKTcV%2FN2CgCig%3D%3D&position=11&pageNum=3&trk=public_jobs_jserp-result_search-card'}, {'company': 'Kalow & Springut LLP', 'title': 'Machine Learning Engineer', 'location': 'Sacramento, CA', 'posted': '3 days ago', 'href': 'https://www.linkedin.com/jobs/view/machine-learning-engineer-at-kalow-springut-llp-2876366520?refId=myna4ETpoZhBsrwmVZZsEA%3D%3D&trackingId=ECWhowJ2NAy6sc7EVD1qpA%3D%3D&position=12&pageNum=3&trk=public_jobs_jserp-result_search-card'}, {'company': 'Inspire11', 'title': 'Data Scientist', 'location': 'Minneapolis, MN', 'posted': '2 days ago', 'href': 'https://www.linkedin.com/jobs/view/data-scientist-at-inspire11-2877819524?refId=myna4ETpoZhBsrwmVZZsEA%3D%3D&trackingId=ZrldihWoNBaT8Gg0XbAHnw%3D%3D&position=13&pageNum=3&trk=public_jobs_jserp-result_search-card'}, {'company': 'AmerisourceBergen', 'title': 'Data Scientist I', 'location': 'Carrollton, TX', 'posted': '4 days ago', 'href': 'https://www.linkedin.com/jobs/view/data-scientist-i-at-amerisourcebergen-2876431228?refId=myna4ETpoZhBsrwmVZZsEA%3D%3D&trackingId=MbMsIfj0lM%2BQbktZ3pP8FQ%3D%3D&position=14&pageNum=3&trk=public_jobs_jserp-result_search-card'}, {'company': 'Moloco', 'title': 'Machine Learning Engineer - US', 'location': 'Redwood City, CA', 'posted': '4 weeks ago', 'href': 'https://www.linkedin.com/jobs/view/machine-learning-engineer-us-at-moloco-2875904870?refId=myna4ETpoZhBsrwmVZZsEA%3D%3D&trackingId=wyv2afCmjdZIrHKBf2hXfA%3D%3D&position=15&pageNum=3&trk=public_jobs_jserp-result_search-card'}, {'company': 'Monocle Yachts', 'title': 'Machine Learning Engineer', 'location': 'Sacramento, CA', 'posted': '4 days ago', 'href': 'https://www.linkedin.com/jobs/view/machine-learning-engineer-at-monocle-yachts-2875131380?refId=myna4ETpoZhBsrwmVZZsEA%3D%3D&trackingId=2X5lPMfu9j55sfEcILITSg%3D%3D&position=16&pageNum=3&trk=public_jobs_jserp-result_search-card'}, {'company': 'Mage', 'title': 'Machine Learning Engineer', 'location': 'San Francisco, CA', 'posted': '2 weeks ago', 'href': 'https://www.linkedin.com/jobs/view/machine-learning-engineer-at-mage-2866042606?refId=myna4ETpoZhBsrwmVZZsEA%3D%3D&trackingId=c6Pkg%2FlP%2FaW%2FfjO9%2FCbvXQ%3D%3D&position=17&pageNum=3&trk=public_jobs_jserp-result_search-card'}, {'company': 'Voltron Data', 'title': 'Data Scientist', 'location': 'United States', 'posted': '1 day ago', 'href': 'https://www.linkedin.com/jobs/view/data-scientist-at-voltron-data-2878880783?refId=myna4ETpoZhBsrwmVZZsEA%3D%3D&trackingId=yParh6GYn6sy71BwX0%2FSig%3D%3D&position=18&pageNum=3&trk=public_jobs_jserp-result_search-card'}, {'company': 'Zachary Piper Solutions', 'title': 'Data Scientist', 'location': 'Durham, NC', 'posted': '', 'href': 'https://www.linkedin.com/jobs/view/data-scientist-at-zachary-piper-solutions-2876777415?refId=myna4ETpoZhBsrwmVZZsEA%3D%3D&trackingId=37ZiWp%2FmOFyE8LbKpQrkzw%3D%3D&position=19&pageNum=3&trk=public_jobs_jserp-result_search-card'}, {'company': 'The Boothby Group', 'title': 'Data Scientist', 'location': 'Sacramento, CA', 'posted': '5 days ago', 'href': 'https://www.linkedin.com/jobs/view/data-scientist-at-the-boothby-group-2873588215?refId=myna4ETpoZhBsrwmVZZsEA%3D%3D&trackingId=M4Uosr42z5HgOd0kS1MMQg%3D%3D&position=20&pageNum=3&trk=public_jobs_jserp-result_search-card'}, {'company': 'Woodland Solutions, Inc.', 'title': 'Data Scientist', 'location': 'Detroit, MI', 'posted': '2 weeks ago', 'href': 'https://www.linkedin.com/jobs/view/data-scientist-at-woodland-solutions-inc-2863858862?refId=myna4ETpoZhBsrwmVZZsEA%3D%3D&trackingId=KWPKo4k%2F0RNMVD8NQS1bAg%3D%3D&position=21&pageNum=3&trk=public_jobs_jserp-result_search-card'}, {'company': 'Nuro', 'title': 'Machine Learning Engineer, Track Understanding', 'location': 'Mountain View, CA', 'posted': '2 days ago', 'href': 'https://www.linkedin.com/jobs/view/machine-learning-engineer-track-understanding-at-nuro-2877853693?refId=myna4ETpoZhBsrwmVZZsEA%3D%3D&trackingId=aNmCvJYemqbtg6p1BXp1ZA%3D%3D&position=22&pageNum=3&trk=public_jobs_jserp-result_search-card'}, {'company': 'Enterprise Minds, Inc', 'title': 'ML Ops Engineer', 'location': 'San Jose, CA', 'posted': '', 'href': 'https://www.linkedin.com/jobs/view/ml-ops-engineer-at-enterprise-minds-inc-2881252904?refId=myna4ETpoZhBsrwmVZZsEA%3D%3D&trackingId=j45pJ9idBG0BXfJuikjzlw%3D%3D&position=23&pageNum=3&trk=public_jobs_jserp-result_search-card'}, {'company': 'Snap Finance', 'title': 'Data Scientist', 'location': 'Salt Lake City, UT', 'posted': '2 days ago', 'href': 'https://www.linkedin.com/jobs/view/data-scientist-at-snap-finance-2878134478?refId=myna4ETpoZhBsrwmVZZsEA%3D%3D&trackingId=3Ady7KnIR5%2BZymzTpVj25g%3D%3D&position=24&pageNum=3&trk=public_jobs_jserp-result_search-card'}, {'company': 'Cisco Meraki', 'title': 'Machine Learning (ML) Engineer - Data Platform', 'location': 'San Francisco, CA', 'posted': '3 days ago', 'href': 'https://www.linkedin.com/jobs/view/machine-learning-ml-engineer-data-platform-at-cisco-meraki-2816034072?refId=myna4ETpoZhBsrwmVZZsEA%3D%3D&trackingId=wTUyX762QY1ufM304fHjPw%3D%3D&position=25&pageNum=3&trk=public_jobs_jserp-result_search-card'}]\n"
     ]
    }
   ],
   "source": [
    "# print(jobs)"
   ]
  },
  {
   "cell_type": "code",
   "execution_count": 140,
   "id": "92bc27a1",
   "metadata": {},
   "outputs": [
    {
     "name": "stdout",
     "output_type": "stream",
     "text": [
      "care.coach\n"
     ]
    }
   ],
   "source": [
    "# print(jobs_copy[2]['company'])\n",
    "# wd.get(jobs_copy[2]['href'])"
   ]
  },
  {
   "cell_type": "code",
   "execution_count": 138,
   "id": "b650f97f",
   "metadata": {},
   "outputs": [],
   "source": [
    "# wd.execute_script(\"document.querySelector('.show-more-less-html__button').click()\")"
   ]
  },
  {
   "cell_type": "code",
   "execution_count": 46,
   "id": "200be034",
   "metadata": {},
   "outputs": [
    {
     "data": {
      "text/plain": [
       "{'company': \"The World's Largest Entertainment Group\",\n",
       " 'title': 'Machine Learning Engineer',\n",
       " 'location': 'San Francisco, CA',\n",
       " 'posted': '',\n",
       " 'href': ''}"
      ]
     },
     "execution_count": 46,
     "metadata": {},
     "output_type": "execute_result"
    }
   ],
   "source": [
    "jobs[2]"
   ]
  },
  {
   "cell_type": "code",
   "execution_count": 80,
   "id": "faae0f0b",
   "metadata": {},
   "outputs": [],
   "source": [
    "# wd.get(jobs[2]['href'])"
   ]
  },
  {
   "cell_type": "code",
   "execution_count": 81,
   "id": "38a42354",
   "metadata": {},
   "outputs": [
    {
     "name": "stdout",
     "output_type": "stream",
     "text": [
      "Snappyhires\n"
     ]
    },
    {
     "name": "stderr",
     "output_type": "stream",
     "text": [
      "<ipython-input-79-253f355a4fc6>:9: DeprecationWarning: find_element_by_* commands are deprecated. Please use find_element() instead\n",
      "  job[\"description\"] = wd.find_element_by_css_selector('.description__text').text.replace('\\n','')\n",
      "<ipython-input-79-253f355a4fc6>:11: DeprecationWarning: find_elements_by_* commands are deprecated. Please use find_elements() instead\n",
      "  skills = wd.find_elements_by_css_selector('.description__text li')\n"
     ]
    },
    {
     "name": "stdout",
     "output_type": "stream",
     "text": [
      "done\n",
      "ProcessMiner Inc.\n",
      "done\n",
      "Pivotal Analytics\n",
      "done\n",
      "VDart\n",
      "done\n",
      "Diverse Lynx\n",
      "done\n",
      "KGS Technology Group, Inc\n",
      "done\n",
      "Scalar Solutions\n",
      "done\n",
      "SoftStandard Solutions\n",
      "done\n",
      "Proximate Technologies Inc\n",
      "done\n",
      "Open Systems Inc.\n",
      "Nayya\n",
      "done\n",
      "Nayya\n",
      "done\n",
      "Lucid, LLC\n",
      "done\n",
      "Eonum, Inc.\n",
      "done\n",
      "Charles Schwab\n",
      "done\n",
      "Precision Technologies\n",
      "done\n",
      "Hitachi Solutions America\n",
      "done\n",
      "Chewy\n",
      "done\n",
      "Chewy\n",
      "done\n",
      "Ebullience.\n",
      "done\n",
      "Chewy\n",
      "done\n",
      "BioSpace\n",
      "Parafin\n",
      "done\n",
      "Chewy\n",
      "done\n",
      "Chewy\n",
      "done\n",
      "Chewy\n",
      "done\n",
      "Recurve\n",
      "done\n",
      "Coders Data\n",
      "done\n",
      "Chewy\n",
      "Chewy\n",
      "done\n",
      "Zachary Piper Solutions\n",
      "done\n",
      "Chewy\n",
      "done\n",
      "Insight Global\n",
      "done\n",
      "Iterate Labs\n",
      "done\n",
      "Baylor Genetics\n",
      "done\n",
      "Chewy\n",
      "Chewy\n",
      "done\n",
      "ati\n",
      "done\n",
      "Analytical Flavor Systems Inc.\n",
      "done\n",
      "Smarter.ai\n",
      "done\n",
      "Citizen\n",
      "done\n",
      "Zemantics Inc.\n",
      "done\n",
      "Blockchain.com\n",
      "CardinalHire\n",
      "done\n",
      "Kesar Web\n",
      "done\n",
      "Datadog\n",
      "done\n",
      "Allstate\n",
      "done\n",
      "Datadog\n",
      "done\n",
      "Mastech Digital\n",
      "done\n",
      "Actalent\n",
      "done\n",
      "CVS Health\n",
      "Red Technologies\n",
      "done\n",
      "Spot Freight\n",
      "done\n",
      "Chewy\n",
      "done\n",
      "Grubhub\n",
      "done\n",
      "GoGuardian\n",
      "done\n",
      "ALOIS Staffing\n",
      "done\n",
      "USSOCOM\n",
      "done\n",
      "CardinalHire\n",
      "done\n",
      "Blockchain.com\n",
      "done\n",
      "EyeCue Lab\n",
      "done\n",
      "GSD LLC\n",
      "done\n",
      "Red Technologies\n",
      "done\n",
      "Genomics Institute Of The Novartis Research Foundation\n",
      "done\n",
      "Demand Driven Technologies\n",
      "Sysco\n",
      "done\n",
      "iMango Consulting\n",
      "done\n",
      "Trusaic\n",
      "done\n",
      "Royalty Pharma\n",
      "Anvizent\n",
      "done\n",
      "Spot Freight\n",
      "done\n",
      "Verikai\n",
      "done\n",
      "HealthRhythms\n",
      "done\n",
      "Verve IT Consulting Inc\n",
      "done\n",
      "CloudSpace LLC\n",
      "done\n",
      "Melville Biosecurity\n",
      "Humankind Investments\n",
      "done\n",
      "The Home Depot\n",
      "done\n",
      "Eurofins Lancaster Laboratories\n",
      "done\n",
      "Walmart\n",
      "done\n",
      "Retuurn\n",
      "done\n",
      "Karwell Technologies Inc\n",
      "done\n",
      "Hamilton Porter\n",
      "Walmart\n",
      "done\n",
      "Nike\n",
      "done\n",
      "Equator Therapeutics\n",
      "done\n",
      "Storm Global Analytics\n",
      "done\n",
      "Ruri Software Technologies LLC\n",
      "HelloFresh\n",
      "done\n",
      "Zachary Piper Solutions\n",
      "done\n",
      "Eurofins Lancaster Laboratories\n",
      "done\n",
      "KORE Wireless\n",
      "done\n",
      "Greyscale AI\n",
      "done\n",
      "CVS Health\n",
      "AdTheorent\n",
      "done\n",
      "Recruiting For Less\n",
      "done\n",
      "Ross Stores, Inc.\n",
      "done\n",
      "Stitch Fix\n",
      "done\n",
      "The Home Depot\n",
      "done\n",
      "Cohere Health\n",
      "done\n",
      "Sightly\n",
      "done\n",
      "Walmart\n",
      "done\n",
      "Splice\n",
      "done\n",
      "Covetrus\n",
      "done\n",
      "AmerisourceBergen\n",
      "done\n",
      "Eurofins Lancaster Laboratories\n",
      "done\n",
      "Lockheed Martin\n",
      "done\n",
      "Unfold\n",
      "done\n",
      "Walmart\n",
      "Major League Baseball\n",
      "done\n",
      "J.B. Hunt Transport Services, Inc.\n",
      "done\n",
      "Circle\n",
      "done\n",
      "Gap Inc.\n",
      "done\n",
      "HelloFresh\n",
      "done\n",
      "Collabera Inc.\n",
      "done\n",
      "Grammarly\n",
      "done\n",
      "Creative Artists Agency\n",
      "ICON International, Inc.\n",
      "done\n",
      "Radian\n",
      "done\n",
      "PointCard™\n",
      "done\n",
      "Grindr\n",
      "done\n",
      "Techstars\n",
      "United Solutions, LLC\n",
      "done\n",
      "Tiger Analytics\n",
      "done\n",
      "Perch\n",
      "done\n",
      "Ipsos North America\n",
      "done\n",
      "SyllogisTeks\n",
      "The Boothby Group\n",
      "done\n",
      "CVS Health\n",
      "done\n",
      "GRA, Incorporated\n",
      "done\n",
      "Los Angeles County Department of Public Health\n",
      "McKesson\n",
      "done\n",
      "HelloFresh\n",
      "done\n",
      "Townsquare Interactive\n",
      "done\n",
      "Step\n",
      "done\n",
      "Radian\n",
      "Blend360\n",
      "done\n",
      "Angel Studios\n",
      "done\n",
      "Pax8\n",
      "done\n",
      "TCG\n",
      "done\n",
      "Wizards of the Coast\n",
      "done\n",
      "Dataiku\n",
      "done\n",
      "Gap Inc.\n",
      "Beyond Finance\n",
      "done\n",
      "Chewy\n",
      "done\n",
      "Travelers\n",
      "done\n",
      "Frequence\n",
      "done\n",
      "Candy Digital\n",
      "done\n",
      "IVY TECH SOLUTIONS INC\n",
      "done\n",
      "Prolego\n",
      "done\n",
      "Plume Design, Inc\n",
      "done\n",
      "Heidrick & Struggles\n",
      "done\n",
      "Collabera Inc.\n",
      "done\n",
      "Evernote\n",
      "Arcules\n",
      "done\n",
      "Lucid, LLC\n",
      "done\n",
      "Bank of America\n",
      "done\n",
      "The Home Depot\n",
      "done\n",
      "Intel Corporation\n",
      "done\n",
      "Shortest Track\n",
      "Children's Hospital of Philadelphia\n",
      "done\n",
      "Chewy\n",
      "done\n",
      "Dignity Health\n",
      "done\n",
      "Mastercard\n",
      "done\n",
      "Stitch Fix\n",
      "done\n",
      "Atrilogy Solutions Group\n",
      "done\n",
      "Vxplore\n",
      "HEALTH[at]SCALE Technologies\n",
      "done\n",
      "Rokt\n",
      "done\n",
      "Moloco\n",
      "done\n"
     ]
    }
   ],
   "source": [
    "get_description_and_skill_list(jobs)"
   ]
  },
  {
   "cell_type": "code",
   "execution_count": 51,
   "id": "861e4047",
   "metadata": {},
   "outputs": [],
   "source": [
    "# test = jobs_copy[:10]"
   ]
  },
  {
   "cell_type": "code",
   "execution_count": 52,
   "id": "7d3bceed",
   "metadata": {},
   "outputs": [],
   "source": [
    "# test"
   ]
  },
  {
   "cell_type": "code",
   "execution_count": 55,
   "id": "f4ed2407",
   "metadata": {},
   "outputs": [
    {
     "data": {
      "text/plain": [
       "{'company': 'Ruri Software Technologies LLC',\n",
       " 'title': 'Machine Learning Engineer',\n",
       " 'location': 'Tampa, FL',\n",
       " 'posted': '',\n",
       " 'href': 'https://www.linkedin.com/jobs/view/machine-learning-engineer-at-ruri-software-technologies-llc-2880928202?refId=BpPctBavw254Fhli59KgYg%3D%3D&trackingId=IhRwaCADAxX0IH88S29wyA%3D%3D&position=1&pageNum=0&trk=public_jobs_jserp-result_search-card',\n",
       " 'description': 'MLEngineer (with Docker, EKS, AWS, Deployment model and Serving it with APIGEE).',\n",
       " 'skills': b''}"
      ]
     },
     "execution_count": 55,
     "metadata": {},
     "output_type": "execute_result"
    }
   ],
   "source": [
    "jobs[0]"
   ]
  },
  {
   "cell_type": "code",
   "execution_count": 82,
   "id": "d85ea42f",
   "metadata": {},
   "outputs": [
    {
     "name": "stdout",
     "output_type": "stream",
     "text": [
      "dict_keys(['company', 'title', 'location', 'posted', 'href', 'description', 'skills'])\n"
     ]
    }
   ],
   "source": [
    "import csv\n",
    "keys = jobs[0].keys()\n",
    "print(keys)\n",
    "\n",
    "with open('Data_Scientist_175.csv', 'w', encoding=\"utf-8\", newline='') as output_file:\n",
    "    dict_writer = csv.DictWriter(output_file, keys)\n",
    "    dict_writer.writeheader()\n",
    "    dict_writer.writerows(jobs)"
   ]
  },
  {
   "cell_type": "code",
   "execution_count": 49,
   "id": "8aadf551",
   "metadata": {},
   "outputs": [],
   "source": [
    "# jobs[:2]"
   ]
  },
  {
   "cell_type": "code",
   "execution_count": 50,
   "id": "ba1a40a9",
   "metadata": {},
   "outputs": [],
   "source": [
    "# jobs_copy[:2]"
   ]
  }
 ],
 "metadata": {
  "kernelspec": {
   "display_name": "Python 3",
   "language": "python",
   "name": "python3"
  },
  "language_info": {
   "codemirror_mode": {
    "name": "ipython",
    "version": 3
   },
   "file_extension": ".py",
   "mimetype": "text/x-python",
   "name": "python",
   "nbconvert_exporter": "python",
   "pygments_lexer": "ipython3",
   "version": "3.8.8"
  }
 },
 "nbformat": 4,
 "nbformat_minor": 5
}
